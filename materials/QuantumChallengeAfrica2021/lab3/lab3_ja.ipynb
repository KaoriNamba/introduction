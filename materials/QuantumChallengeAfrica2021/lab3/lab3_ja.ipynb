{
 "cells": [
  {
   "cell_type": "markdown",
   "id": "f4f77bf2",
   "metadata": {},
   "source": [
    "<div align=center class=\"alert alert-block alert-info\">\n",
    "    <h1>IBM Quantum Challenge アフリカ:</h1>\n",
    "        <h1>量子化学でHIVの課題を解く</h1>\n",
    "</div>\n",
    "\n",
    "<img src=\"HIV-1_capsid_wikipedia.png\"/>\n",
    "\n",
    "<div align=center class=\"alert alert-block alert-info\">\n",
    "    <h1>目次</h1>\n",
    "</div>\n",
    "\n",
    "| 目次  |\n",
    "|:-|\n",
    "||\n",
    "| 水素分子での例題  |\n",
    "|[序文](#preface)|\n",
    "|[はじめに](#intro)|\n",
    "|[Step 1 : 分子幾何学の定義](#step_1)|\n",
    "|[Step 2 : 量子ビットハミルトニアンの計算](#step_2)|\n",
    "|[Step 2a: フェルミオンのハミルトニアンの構築](#step_3)|\n",
    "|[Step 2b: 量子ビットハミルトニアンへの変換の準備](#step_2b)|\n",
    "|[Step 3 : 変分法量子固有値ソルバー(VQE)の設定](#step_3)|\n",
    "|[Step 3a: VQEのV（変分形式、試行状態）について](#step_3a)|\n",
    "|[Step 3b: VQEのQ（量子の環境）について](#step_3b)|\n",
    "|[Step 3c: VQEの初期化](#step_3c)|\n",
    "|[Step 4 : 基底状態の解法](#step_4)|\n",
    "||\n",
    "|[HIVチャレンジ](#challenge)|\n",
    "|[1. Step 1の改良: 分子を変化させる](#refine_step_1)|\n",
    "|[2. Step 2の改良: 量子量の削減](#refine_step_2)|\n",
    "|[3. Step 4の改良: エネルギー曲面](#refine_step_4)|\n",
    "|[4. Step 3aの改良](#refine_step_3a)|\n",
    "||\n",
    "|Exercises|\n",
    "|[Exercise 3a: ブロッキングアプローチによるマクロ分子の分子定義](#exercise_3a)|\n",
    "|[Exercise 3b: 古典-量子処理の概念問題 (複数からの選択式)](#exercise_3b)|\n",
    "|[Exercise 3c: エネルギーランドスケープー結合するかしないか？](#exercise_3c)|\n",
    "|[Exercise 3d: 反復回数の増加による効果](#exercise_3d)|\n",
    "|[Exercise 3e: 自由形式：マクロ分子のエネルギー誤差を最小化するための最適なhardware_inspired_trialを見つけよう](#exercise_3e)|\n",
    "|[量子化学の参考文献](#qresource)|\n",
    "\n",
    "<h2><a id='preface'>序文</a></h2>\n",
    "\n",
    "**HIVは、世界的に見ても公衆衛生上、非常に大きな課題となっているウイルスです。** その結果、栄養状態、健康へのアクセス、教育、研究費など、社会のさまざまな側面に影響を与えています。さらに、このウイルスは急速に変異し、異なる株が異なる地域に分布していることも問題です。特に、HIV-1-CとHIV-2の株は、主にアフリカで多く見られます。資金面での格差により、アフリカ株の治療法の研究は他のプログラムに比べて遅れています。アフリカの研究者たちは、この不均衡を解消しようと努力していますが、彼らのツールキットに量子コンピューティングなどの最新技術を加えることを検討すべきです。\n",
    "\n",
    "**量子コンピューターは、医薬品の設計を飛躍的に向上させます。** 特に、新しい抗レトロウイルス剤を設計するためには、**化学シミュレーション** を行って、抗レトロウイルス剤がウイルスのタンパク質と結合することを確認することが重要です。このようなシミュレーションは、従来のスーパーコンピューターでは難しく、効果がないこともありました。しかし、量子コンピューターを使えば、より正確なシミュレーションが可能になり、よりよい薬剤設計のワークフローが実現すると期待されています。\n",
    "\n",
    "詳細：抗レトロウイルス薬は、ウイルスのポリタンパク質をより小さなタンパク質に切断してパッケージ化するプロテアーゼと呼ばれるウイルスタンパク質に結合してブロックする薬剤です。プロテアーゼは、化学的なハサミと考えることができます。抗レトロウイルス剤は、ハサミの切断能力を阻害する粘着性の障害物と考えることができます。プロテアーゼが阻害されると、ウイルスは自分自身のコピーを増やすことができません。\n",
    "\n",
    "ウイルスのプロテアーゼに変異があると、ある抗レトロウイルスの結合傾向が変わります。そのため、変異が起きて抗レトロウイルスがうまく結合できなくなった場合、抗レトロウイルスの分子を調整して再び強く結合できるようにすることが目標となります。\n",
    "\n",
    "**この課題の主な目的は、抗レトロウイルス分子のトイモデルが、ウイルスのプロテアーゼのトイモデルと結合するかどうかを調べることです。**\n",
    "\n",
    "この課題では、 **最先端のハイブリッド古典-量子組み込み化学モデリング** を導入し、古典的な近似とより正確な量子計算の間で作業負荷を分割することができます。\n",
    "\n",
    "最後に、現在の量子コンピューティングに存在するノイズを考慮して最高のパフォーマンスを達成するために、（量子コンピューティングの基本を理解していなくても）量子化学アルゴリズムの設定を微調整する必要があります。"
   ]
  },
  {
   "cell_type": "markdown",
   "id": "36935cf4",
   "metadata": {},
   "source": [
    "*HIVの感染経路や抗レトロウイルス治療の仕組みなどを解説したビデオです*:"
   ]
  },
  {
   "cell_type": "code",
   "execution_count": 1,
   "id": "a6aa2040",
   "metadata": {},
   "outputs": [
    {
     "data": {
      "image/jpeg": "[encoded data removed]",
      "text/html": [
       "\n",
       "        <iframe\n",
       "            width=\"400\"\n",
       "            height=\"300\"\n",
       "            src=\"https://www.youtube.com/embed/cSNaBui2IM8\"\n",
       "            frameborder=\"0\"\n",
       "            allowfullscreen\n",
       "        ></iframe>\n",
       "        "
      ],
      "text/plain": [
       "<IPython.lib.display.YouTubeVideo at 0x7fa9cd65de50>"
      ]
     },
     "execution_count": 1,
     "metadata": {},
     "output_type": "execute_result"
    }
   ],
   "source": [
    "from IPython.display import display, YouTubeVideo\n",
    "YouTubeVideo('cSNaBui2IM8')"
   ]
  },
  {
   "cell_type": "markdown",
   "id": "33019d80",
   "metadata": {},
   "source": [
    "<div align=center class=\"alert alert-block alert-success\">\n",
    "    <h1>例題：宇宙で最も単純な分子の基底状態エネルギーを計算する</h1>\n",
    "</div>"
   ]
  },
  {
   "cell_type": "markdown",
   "id": "3ee3b34c",
   "metadata": {},
   "source": [
    "*関連するパッケージをインポートする*"
   ]
  },
  {
   "cell_type": "code",
   "execution_count": null,
   "id": "52366729",
   "metadata": {},
   "outputs": [],
   "source": [
    "from qiskit import Aer\n",
    "\n",
    "from qiskit_nature.drivers import PySCFDriver, UnitsType, Molecule\n",
    "from qiskit_nature.problems.second_quantization.electronic import ElectronicStructureProblem\n",
    "from qiskit_nature.mappers.second_quantization import JordanWignerMapper, BravyiKitaevMapper\n",
    "from qiskit_nature.converters.second_quantization import QubitConverter\n",
    "\n",
    "from qiskit_nature.transformers import ActiveSpaceTransformer\n",
    "from qiskit_nature.algorithms import GroundStateEigensolver, BOPESSampler\n",
    "from qiskit.algorithms import NumPyMinimumEigensolver\n",
    "\n",
    "from qiskit.utils import QuantumInstance\n",
    "\n",
    "from qiskit_nature.circuit.library.ansatzes import UCCSD\n",
    "from qiskit_nature.circuit.library.initial_states import HartreeFock\n",
    "from qiskit.circuit.library import TwoLocal\n",
    "\n",
    "from qiskit.algorithms import VQE\n",
    "from qiskit.algorithms.optimizers import COBYLA\n",
    "\n",
    "from functools import partial as apply_variation_to_atom_pair\n",
    "import numpy as np\n",
    "import matplotlib.pyplot as plt"
   ]
  },
  {
   "cell_type": "markdown",
   "id": "e7c89801",
   "metadata": {},
   "source": [
    "<h2><a id='intro'>はじめに</a></h2>\n",
    "\n",
    "HIVチャレンジでは，抗レトロウイルス分子のトイモデルがプロテアーゼ分子のトイモデルと結合し，それによって破壊されるかどうかを調査することが課題となっています。結合が成功したかどうかは、分子が近接している（単一のマクロ分子を形成している）場合、離れている場合に比べて、分子の全基底状態エネルギーが低いかどうかで決まります。\n",
    "\n",
    "全基底状態エネルギーとは、電子と原子核の配置に関するエネルギーの総和です。原子核エネルギーは古典計算で簡単に計算できますが、電子分布のエネルギー（すなわち、分子のスピン軌道の占有率）は非常に計算が難しく、量子コンピューターが必要となります。\n",
    "\n",
    "例題のチュートリアルでは、まず簡単な分子の基底状態のエネルギーを計算し、より複雑な設定についてはチャレンジ編で行います。"
   ]
  },
  {
   "cell_type": "markdown",
   "id": "76580d6d",
   "metadata": {},
   "source": [
    "ある構造の分子の基底状態は、原子核の位置と、原子核の周りの電子の分布で構成されています。原子核と原子核、原子核と電子、電子と電子の引力と斥力が**ハミルトニアン**と呼ばれる行列に取り込まれます。原子核は電子に比べて比較的質量が大きいため、電子よりも遅い時間軸で動きます。このため、計算を2つに分けることができます。すなわち、原子核を止めて電子分布を計算した後、全エネルギー分布が最小になるまで、原子核を移動させて電子分布を再計算するのです："
   ]
  },
  {
   "cell_type": "markdown",
   "id": "629e1d28",
   "metadata": {},
   "source": [
    "<div class=\"alert alert-block alert-warning\">\n",
    "<b>アルゴリズム: Find_total_ground_state（基底状態を探す）</b>\n",
    "\n",
    "原子核を静止する\n",
    "    \n",
    "グリッドが完成するか、total_energy に変化がなくなるまで繰り返す：\n",
    "    \n",
    "  - 電子の基底状態を計算する \n",
    "    \n",
    "  - total_energy = (原子核の反発力 + 電子のエネルギー)\n",
    "    \n",
    "  - （グリッド内のまたは勾配に従って）原子核を動かす\n",
    "\n",
    "return total_energy\n",
    "</div>"
   ]
  },
  {
   "cell_type": "markdown",
   "id": "0c8cc88f",
   "metadata": {},
   "source": [
    "この例題では、単純に原子核の位置を固定していますが、後のチャレンジの章では、抗レトロウイルスとプロテアーゼ分子の間の1次元の分子間距離を変化させることで、抗レトロウイルスがプロテアーゼ分子に接近して結合しようとしていることを表現しています。"
   ]
  },
  {
   "cell_type": "markdown",
   "id": "8d050f94",
   "metadata": {},
   "source": [
    "<h2><a id='step_1'>Step 1: 分子の構造を定義する</a></h2>"
   ]
  },
  {
   "cell_type": "markdown",
   "id": "0673bb5e",
   "metadata": {},
   "source": [
    "このチュートリアルでは、可能な限り簡単ですが自明ではない分子を使用します：H$_2$は、水素分子です。\n",
    "\n",
    "<img src=\"h2.png\"/>\n",
    "\n",
    "\n",
    "*まず最初に行うことは、各原子核の位置を固定することです。これはpythonの原子核のリストとして指定され、各原子核（リスト）には、原子の種類に対応した文字列とその3次元座標（別のリスト）が含まれます。また、全体の電荷を指定すると、その電荷を生成するために必要な電子の数をQiskitが自動的に計算します。*"
   ]
  },
  {
   "cell_type": "code",
   "execution_count": null,
   "id": "6a4d61be",
   "metadata": {},
   "outputs": [],
   "source": [
    "hydrogen_molecule = Molecule(geometry=\n",
    "                             [['H', [0., 0., 0.]],\n",
    "                              ['H', [0., 0., 0.735]]],\n",
    "                     charge=0, multiplicity=1)"
   ]
  },
  {
   "cell_type": "markdown",
   "id": "ebe7b227",
   "metadata": {},
   "source": [
    "<h2><a id='step_2'>Step 2: 量子ビットのハミルトニアンを計算する</a></h2>"
   ]
  },
  {
   "cell_type": "markdown",
   "id": "54cd0eaf",
   "metadata": {},
   "source": [
    "原子核の位置が固定されると（原子核-原子核間の力は一時的に無関係になり）、量子コンピューター上で計算する必要があるハミルトニアンは、詳細な電子-電子相互作用だけになります。原子核-電子間および大まかな平均場電子-電子間の相互作用は、ハートリーフォック近似と呼ばれる方法で、古典計算機上で*許可された分子軌道*としてあらかじめ計算することができます。これらの許可された分子軌道と事前に計算されたものをかけ合わせ、 Qiskit は自動的に相互作用する電子-電子間の**フェルミオン分子軌道ハミルトニアン**(フェルミ演算子によるハミルトニアン)を生成します（第二量子化と呼ばれます）。分子軌道と掛け合わされる事前計算は、PySCFなどの古典的なパッケージによって行われ、いわゆる*ドライバー*を介してQiskitに接続されており、今回、私たちはPySCFDriverを使用します。"
   ]
  },
  {
   "cell_type": "markdown",
   "id": "3e8de1b6",
   "metadata": {},
   "source": [
    "<h3><a id='step_3'>Step 2a: フェルミ演算子によるハミルトニアンを構築する</a></h3>"
   ]
  },
  {
   "cell_type": "markdown",
   "id": "7efa021c",
   "metadata": {},
   "source": [
    "*ここでは，原子核-電子間および平均場相互作用を考慮した上で、分子軌道を計算するための古典的な化学コードとのインターフェースとなる「ドライバー」を指定します。`basis`オプションは、分子軌道を展開する基底セットを選択します。`sto3g`は最も小さい基底セットです。*\n"
   ]
  },
  {
   "cell_type": "code",
   "execution_count": null,
   "id": "1444c4ac",
   "metadata": {},
   "outputs": [],
   "source": [
    "molecular_hydrogen_orbital_maker = PySCFDriver(molecule=hydrogen_molecule, unit=UnitsType.ANGSTROM, basis='sto3g')"
   ]
  },
  {
   "cell_type": "markdown",
   "id": "fdd4f2ad",
   "metadata": {},
   "source": [
    "*QiskitにはElectronicStructureProblemという便利なクラスがあり、分子軌道を構築するためにドライバーを呼び出します。ElectronicStructureProblemをドライバーで初期化します（ドライバーにはすでに前のステップから分子情報が保存されています）。*"
   ]
  },
  {
   "cell_type": "code",
   "execution_count": null,
   "id": "43ab6e5d",
   "metadata": {},
   "outputs": [],
   "source": [
    "hydrogen_fermionic_hamiltonian = ElectronicStructureProblem(molecular_hydrogen_orbital_maker)"
   ]
  },
  {
   "cell_type": "markdown",
   "id": "d2471ea4",
   "metadata": {},
   "source": [
    "*ここでは、ElectronicStructureProblemオブジェクトに、フェルミオン分子軌道ハミルトニアン（フェルミ演算子によるハミルトニアン）の作成を進めるように指示しています（内部に保存されます）。*"
   ]
  },
  {
   "cell_type": "code",
   "execution_count": null,
   "id": "5b34dd65",
   "metadata": {},
   "outputs": [],
   "source": [
    "second_q_op = hydrogen_fermionic_hamiltonian.second_q_ops()\n",
    "print(\"古典パッケージの実行が完了しました。\\nフェルミオン分子軌道ハミルトニアンが計算され、内部に保存されます。\")\n",
    "print(\"利用可能なHF情報の例: 軌道エネルギー\", hydrogen_fermionic_hamiltonian._molecule_data_transformed.orbital_energies)\n",
    "print(second_q_op[0])"
   ]
  },
  {
   "cell_type": "markdown",
   "id": "acfc2f35",
   "metadata": {},
   "source": [
    "(このステップが明示的に実行されず、その出力が中間ステップで使用されない場合は、最終的なground_state solvingステップで自動的に実行されます)。"
   ]
  },
  {
   "cell_type": "markdown",
   "id": "a64def20",
   "metadata": {},
   "source": [
    "<h3><a id='step_2b'>Step 2b: 量子ビットによるハミルトニアンに変換する準備をする</a></h3>"
   ]
  },
  {
   "cell_type": "markdown",
   "id": "676c2000",
   "metadata": {},
   "source": [
    "ここでいう*フェルミオン*とは、電子の振る舞いを表す言葉です。量子コンピューターを使用するためには、電子（フェルミ演算子）を量子コンピューターの量子ビットにマッピングする必要があります。"
   ]
  },
  {
   "cell_type": "markdown",
   "id": "1cf2ddf9",
   "metadata": {},
   "source": [
    "複数のマッピング方法があり、それぞれに長所と短所があるので、試してみるとよいでしょう。"
   ]
  },
  {
   "cell_type": "markdown",
   "id": "ebaf8dce",
   "metadata": {},
   "source": [
    "*ここでは、Jordan-Wigner Mapperと呼ばれる最も単純な量子ビットへのマッピング/変換方法を選択します。*"
   ]
  },
  {
   "cell_type": "code",
   "execution_count": null,
   "id": "35208f96",
   "metadata": {},
   "outputs": [],
   "source": [
    "map_fermions_to_qubits = QubitConverter(JordanWignerMapper())\n",
    "# 別の例：\n",
    "# map_fermions_to_qubits = QubitConverter(BravyiKitaevMapper())"
   ]
  },
  {
   "cell_type": "markdown",
   "id": "848837a2",
   "metadata": {},
   "source": [
    "(注：マッパー（変換方法）を選択しただけで、まだ適用されていません。）"
   ]
  },
  {
   "cell_type": "code",
   "execution_count": null,
   "id": "15da8420",
   "metadata": {},
   "outputs": [],
   "source": [
    "# フェルミ演算子によるハミルトニアンをパウリ演算子に変換（パウリ演算子を表示するために追加）\n",
    "qubit_op = map_fermions_to_qubits.convert(second_q_op[0])\n",
    "print(qubit_op)"
   ]
  },
  {
   "cell_type": "markdown",
   "id": "48f26abd",
   "metadata": {},
   "source": [
    "<h2><a id='step_3'>Step 3:  変分量子固有値ソルバー(VQE)をセットする</a></h2>\n",
    "\n",
    "さて、分子とその量子コンピューターへのマッピングを定義したところで、基底状態を解くためのアルゴリズムを選択する必要があります。よく知られているアプローチは2つあります。量子位相推定法（QPE）とVQEです。QPEはフォールト・トレラントな量子コンピューターが必要となり、まだ使えません。VQEは、短いDepthの量子回路を用いたイブリッド量子-古典手法であるため、現在のノイズの多い**Depth**に制限のある量子コンピューターに適しています。量子コンピューターの回路の*Depth*制限とは、ノイズによって結果が完全にかき消されてしまう前にしか、つまり、短時間しか計算が実行できないという制限です。\n",
    "\n",
    "よって、私たちは、今のところはVQE法のみを検討します。さらに、VQEは構成を微調整することが多いので、エンドユーザーとして、量子ブラックボックスの微調整の経験を積むことができます。\n",
    "\n",
    "<img src=\"vqe_method_NB.png\"/>"
   ]
  },
  {
   "cell_type": "markdown",
   "id": "f86699b9",
   "metadata": {},
   "source": [
    "VQEは、分子（あるいは一般的なハミルトニアン）の基底状態を求めるためのアルゴリズムです。VQEはハイブリッド量子-古典アルゴリズムであり、アルゴリズムは量子のステージと古典のステージの2つの相互作用するステージから構成されています。\n",
    "\n",
    "量子のステージでは、量子コンピューター上に試行的な分子の量子状態が作成されます。この試行状態は、古典のステージで提供・調整された**パラメーター**によって作られます。試行状態が作成されると、そのエネルギーが量子コンピューター上で計算されます（量子-古典測定を数回行う）。その結果が最終的に古典的に利用可能な結果となります。\n",
    "\n",
    "このステージでは、古典的な最適化アルゴリズムが、前の状態のエネルギーレベルと新しいエネルギーレベルを比べ、試行状態のパラメーターを調整すします。このプロセスは、エネルギーが減少しなくなるまで繰り返されます。アルゴリズム全体の出力は、基底状態とそのエネルギーの近似値を出す最終的なパラメーターのセットです。"
   ]
  },
  {
   "cell_type": "markdown",
   "id": "016fdb45",
   "metadata": {},
   "source": [
    "<h3><a id='step_3a'>Step 3a: VQEのV (つまり、変分形式、試行状態)</a></h3>\n",
    "\n",
    "VQEは、基底状態と呼ばれるエネルギーが最も低い電子軌道占有分布を「探索」することで動作します。量子コンピューターは、探索された試行状態のエネルギーを計算するために繰り返し使用されます。\n",
    "\n",
    "試行状態は、（ランダムに初期化された）パラメーターの集まりによって指定され、基底状態を探索（エネルギーコスト関数を最小化）しながら状態を変化させます。この「変化」の形式（つまり、*Ansatz*/試行の構造の定義）は、調整可能で、アプローチとして大きく二つあります。1つ目は、*化学にヒントを得た試行状態*と呼ぶことにしましょう。これは、化学の観点から基底状態がどのように予想されるかというドメイン知識を使用し、それを試行状態に組み込むというものです。もう1つは、*ハードウェアにヒントを得た試行状態*と呼んでいますが、これは、利用可能な量子コンピューターのアーキテクチャーを考慮しながら、できるだけ広い範囲で試行状態を作成しようというものです。\n",
    "\n",
    "#### *化学にヒントを得た試行状態*\n",
    "\n",
    "化学は、ドメイン固有の事前情報（軌道や電子の数、実際のハートリーフォック近似など）を与えてくれるので、この知識を試行状態の形に焼き付け、試行状態を作ることができます。"
   ]
  },
  {
   "cell_type": "markdown",
   "id": "19dfb188",
   "metadata": {},
   "source": [
    "\n",
    "*HF近似から軌道の数を求め、そこからスピン軌道の数を算出します。*"
   ]
  },
  {
   "cell_type": "code",
   "execution_count": null,
   "id": "b7cc1cd7",
   "metadata": {},
   "outputs": [],
   "source": [
    "from qiskit_nature.properties.second_quantization.electronic import ParticleNumber\n",
    "hydrogen_molecule_info          = hydrogen_fermionic_hamiltonian.grouped_property_transformed\n",
    "particle_number = hydrogen_molecule_info.get_property(ParticleNumber)\n",
    "num_hydrogen_spin_orbitals = particle_number.num_spin_orbitals\n",
    "print(num_hydrogen_spin_orbitals)"
   ]
  },
  {
   "cell_type": "markdown",
   "id": "d1eaaa71",
   "metadata": {},
   "source": [
    "*さらに、電子の数（上向きスピン、下向きスピン）も抽出できます。*"
   ]
  },
  {
   "cell_type": "code",
   "execution_count": null,
   "id": "f9cf830f",
   "metadata": {},
   "outputs": [],
   "source": [
    "num_hydrogen_electrons_spin_up_spin_down = (particle_number.num_alpha, particle_number.num_beta)\n",
    "print(num_hydrogen_electrons_spin_up_spin_down)"
   ]
  },
  {
   "cell_type": "markdown",
   "id": "4315223c",
   "metadata": {},
   "source": [
    "*スピン軌道の数、それを埋めることのできる電子の数、そしてフェルミオンから量子ビットへのマッピングにより、試行状態の初期量子コンピューティング状態を構築することができます。*"
   ]
  },
  {
   "cell_type": "code",
   "execution_count": null,
   "id": "16a95c88",
   "metadata": {},
   "outputs": [],
   "source": [
    "hydrogen_initial_state = HartreeFock(num_hydrogen_spin_orbitals,\n",
    "                                     num_hydrogen_electrons_spin_up_spin_down,\n",
    "                                     map_fermions_to_qubits)\n",
    "hydrogen_initial_state.draw(\"mpl\")"
   ]
  },
  {
   "cell_type": "markdown",
   "id": "89ebdc0b",
   "metadata": {},
   "source": [
    "*最後に、Qiskitには、上記の情報を用いてHF近似にヒントを得たパラメータ化された試行状態を作成するクラス(Unitary Coupled Cluster Single and Double excitations, `UCCSD`)が用意されており、基底状態を見つけるために反復的に調整することができます：*"
   ]
  },
  {
   "cell_type": "code",
   "execution_count": null,
   "id": "4a9813ff",
   "metadata": {},
   "outputs": [],
   "source": [
    "hydrogen_chemistry_inspired_trial = UCCSD(map_fermions_to_qubits,\n",
    "                                          num_hydrogen_electrons_spin_up_spin_down,\n",
    "                                          num_hydrogen_spin_orbitals,\n",
    "                                          initial_state=hydrogen_initial_state)\n",
    "hydrogen_chemistry_inspired_trial.draw(\"mpl\")"
   ]
  },
  {
   "cell_type": "code",
   "execution_count": null,
   "id": "60c9df56",
   "metadata": {},
   "outputs": [],
   "source": [
    "hydrogen_chemistry_inspired_trial.decompose().decompose().decompose().draw(\"mpl\")"
   ]
  },
  {
   "cell_type": "markdown",
   "id": "9e2cdf86",
   "metadata": {},
   "source": [
    "#### *ハードウェアにヒントを得た試行状態*\n",
    "\n",
    "上記の*化学にヒントを得た*試行状態の問題点は、非常にDepthが深く、現在の量子コンピューターの利用可能なDepthをすぐに使い切ってしまうことです。そこで、別の案として、化学の知識を捨てて、現在のハードウェアで簡単に準備でき、パラメトリックに \"変化\" させることができる試行状態で、任意の状態を表現することを考えます。任意の状態を表現するための量子演算には、「混合」（*条件付きサブ空間の回転*）と「回転」（*無条件回転*）の2種類があります。これらの操作とそのサブオプションがどのように機能するかについての詳細な知識は、特に必要ありません。なぜなら、どの設定が最良の結果をもたらすかは、すぐにはわからないからです。\n",
    "\n",
    "##### 混合 (エンタングルメントマップとも呼ばれる)\n",
    "\n",
    "利用可能な様々な混合のセットがあり、試すことができます。 *`entanglement`* （何を混ぜるか）と *`entanglement_blocks`* （どのように混ぜるか）の2つの引数で指定します：\n",
    "\n",
    "- 利用可能な *`entanglement`* の値: `'linear'`, `'full'`, `'circular'`, `'sca'`\n",
    "\n",
    "- 利用可能な *`entanglement_blocks`* の値: `'cz'`, `'cx'`\n",
    "\n",
    "ここでは、それぞれ最初の選択肢(`'linear'`と`'cz'`)を使うだけで十分です。\n",
    "\n",
    "##### 回転\n",
    "\n",
    "*パラメタライズ* された様々な回転が用意されています。回転は1つの引数 *`rotation_blocks`* で指定され、以下のような組み合わせのリストになっています:\n",
    "\n",
    "- 利用可能な *`rotation_blocks`*: `'ry'`, `'rx'`,`'rz'`,`'h'`, ...\n",
    "\n",
    "通常、試行状態にパラメーターが導入されるのはここだけです。回転ごとに1つのパラメーターが導入され，関連する軸の周りの回転角度に対応します(なお、 `'h'` はパラメータを持たないため、単独で選択することはできません)。\n",
    "\n",
    "ここでも、我々の目的のためには、リストの中の最初のもの（`'ry'`）を選べば大丈夫です。"
   ]
  },
  {
   "cell_type": "markdown",
   "id": "acf77ffe",
   "metadata": {},
   "source": [
    "*Qiskitには、局所的な操作のみでランダムな試行状態を作成する`TwoLocal`というクラスがあります。局所的な操作の **rounds** （繰り返し）数は、引数 `reps` で指定します：*"
   ]
  },
  {
   "cell_type": "code",
   "execution_count": null,
   "id": "a4470928",
   "metadata": {},
   "outputs": [],
   "source": [
    "hardware_inspired_trial = TwoLocal(4, rotation_blocks = ['ry'], entanglement_blocks = 'cz',\n",
    "                                   entanglement='linear', reps=2)\n",
    "hardware_inspired_trial.decompose().draw(\"mpl\")"
   ]
  },
  {
   "cell_type": "markdown",
   "id": "f634605d",
   "metadata": {},
   "source": [
    "(この試行状態は分子に依存しません)。"
   ]
  },
  {
   "cell_type": "markdown",
   "id": "0952e94f",
   "metadata": {},
   "source": [
    "*便宜上、2つのアプローチのどちらを選択するか変数に代入しておきましょう：*"
   ]
  },
  {
   "cell_type": "code",
   "execution_count": null,
   "id": "4d57fc73",
   "metadata": {},
   "outputs": [],
   "source": [
    "hydrogen_trial_state = hydrogen_chemistry_inspired_trial\n",
    "# または\n",
    "# hydrogen_trial_state = hardware_inspired_trial"
   ]
  },
  {
   "cell_type": "markdown",
   "id": "4d54cfb4",
   "metadata": {},
   "source": [
    "<h3><a id='step_3b'>Step 3b: VQEのQ（量子の動作環境）</a></h3>"
   ]
  },
  {
   "cell_type": "markdown",
   "id": "24962eed",
   "metadata": {},
   "source": [
    "VQEは量子コンピューター上で動作するため、このステージに関する情報が必要となります。テストのために、ノイズのないシミュレーションやノイズのあるシミュレーションを行うことができます。最終的には、（ノイズが多いとはいえ）実際の量子ハードウェアでVQEを動作させ、そう遠くない将来に、古典では達成できない結果を得たいと考えています。"
   ]
  },
  {
   "cell_type": "markdown",
   "id": "9822bfaf",
   "metadata": {},
   "source": [
    "#### ノイズフリーシミュレーション\n",
    "\n",
    "*ノイズのないシミュレーションを行うには、以下の手順に従います。*"
   ]
  },
  {
   "cell_type": "code",
   "execution_count": null,
   "id": "0aaa77c0",
   "metadata": {},
   "outputs": [],
   "source": [
    "noise_free_quantum_environment = QuantumInstance(Aer.get_backend('statevector_simulator'))"
   ]
  },
  {
   "cell_type": "markdown",
   "id": "c9418c4f",
   "metadata": {},
   "source": [
    "<h3><a id='step_3c'>Step 3c: VQEの初期化</a></h3>"
   ]
  },
  {
   "cell_type": "markdown",
   "id": "8a28431b",
   "metadata": {},
   "source": [
    "Qiskit Natureは、VQEアルゴリズムを実装したVQEというクラスを提供しています。*VQEは（分子やハミルトニアンを参照しない）一般的な方法で初期化され、上述の2つの情報（試行状態と量子の動作環境）を必要とします。*"
   ]
  },
  {
   "cell_type": "code",
   "execution_count": null,
   "id": "8d788b9b",
   "metadata": {},
   "outputs": [],
   "source": [
    "hydrogen_vqe_solver = VQE(ansatz=hydrogen_trial_state, quantum_instance=noise_free_quantum_environment)"
   ]
  },
  {
   "cell_type": "markdown",
   "id": "294deace",
   "metadata": {},
   "source": [
    "(なお、vqe solver は、試行状態が hydrogen_chemistry_inspired_trial である場合にのみ、水素に合わせて調整されます)。"
   ]
  },
  {
   "cell_type": "markdown",
   "id": "6b351db0",
   "metadata": {},
   "source": [
    "<h2><a id='step_4'>Step 4: 基底状態を解く</a></h4>"
   ]
  },
  {
   "cell_type": "markdown",
   "id": "3df54693",
   "metadata": {},
   "source": [
    "**Qiskit Natureは分子の基底状態を計算するためにGroundStateEigensolverというクラスを用意しています。**\n",
    "\n",
    "このクラスはまず、どの分子にも依存しない情報で初期化されます。その後、その一般的な設定を使用して、特定の分子に適用します。\n",
    "\n",
    "GroundStateEigensolver オブジェクトを初期化するためには，上述の2つの一般的なアルゴリズムのサブ・コンポーネント，すなわち，マッピング・メソッド（Step 2b）とソルビング・メソッド（Step 3）を提供する必要があります。テストのために，VQEソルバーに代わるものとして，古典的なソルバーがあります（以下のnumpy_solverを参照）。"
   ]
  },
  {
   "cell_type": "code",
   "execution_count": null,
   "id": "e936eeda",
   "metadata": {},
   "outputs": [],
   "source": [
    "hydrogen_ground_state = GroundStateEigensolver(map_fermions_to_qubits, hydrogen_vqe_solver)"
   ]
  },
  {
   "cell_type": "markdown",
   "id": "930e14af",
   "metadata": {},
   "source": [
    "これでようやく、分子の基底状態のエネルギーを求める準備が整いました。\n",
    "\n",
    "分子（Step 1）をエンコードしたフェルミ演算子のハミルトニアン（Step 2a）にGroundStateEigensolver を適用します。すると、すでに指定されているマッパーとVQEソルバーが自動的に適用され、基底状態（近似）が生成されます。"
   ]
  },
  {
   "cell_type": "code",
   "execution_count": null,
   "id": "5ddd293c",
   "metadata": {},
   "outputs": [],
   "source": [
    "hydrogen_ground_state_info = hydrogen_ground_state.solve(hydrogen_fermionic_hamiltonian)\n",
    "\n",
    "print(hydrogen_ground_state_info)"
   ]
  },
  {
   "cell_type": "markdown",
   "id": "8844f266",
   "metadata": {},
   "source": [
    "ご覧のように、電子分布の基底状態のエネルギーを計算しました：-1.85 Hartree\n",
    "\n",
    "原子核の配置から、便利なことに反発エネルギー（Nuclear repulsion energy）も与えられています（古典計算から求められます）。\n",
    "\n",
    "最後に、分子全体の基底状態を考え、最小化したいのは全基底状態エネルギーです。\n",
    "\n",
    "つまり、次のステップは、原子核を移動させて **全基底状態エネルギー** を再計算し、安定した原子核の位置を探すことになります。"
   ]
  },
  {
   "cell_type": "markdown",
   "id": "2454ac61",
   "metadata": {},
   "source": [
    "最後に、量子力学的に計算されたエネルギーと、それと同等の精度（ただし時間はかかる）で古典計算されたエネルギーを比較してみよう。"
   ]
  },
  {
   "cell_type": "code",
   "execution_count": null,
   "id": "7548a5db",
   "metadata": {
    "scrolled": true
   },
   "outputs": [],
   "source": [
    "# Step 3bの別の方法\n",
    "numpy_solver = NumPyMinimumEigensolver()\n",
    "\n",
    "# Step 4の別の方法\n",
    "ground_state_classical = GroundStateEigensolver(map_fermions_to_qubits, numpy_solver)\n",
    "hydrogen_ground_state_info_classical = ground_state_classical.solve(hydrogen_fermionic_hamiltonian)\n",
    "\n",
    "hydrogen_energy_classical = hydrogen_ground_state_info.computed_energies[0]\n",
    "print(\"基底状態の電子エネルギー（古典計算による）: \", hydrogen_energy_classical, \"Hartree\")"
   ]
  },
  {
   "cell_type": "markdown",
   "id": "2a67397e",
   "metadata": {},
   "source": [
    "小数点以下の何桁にも及ぶ一致は、この特定のハミルトニアンに対して、VQEプロセスが正確に最低固有値を見つけていることを示しています（興味深いことに、Ansatz/試行状態はヒルベルト空間全体に渡っているためか、基底状態の捕捉に失敗していません）。しかし、自然界や非常に精度の高い $H_2$ の古典シミュレーションと比較すると、エネルギーは小数点以下2桁までしか一致しないことがわかります。例えば、全エネルギーは、VQE：-1.137 Hartree 対 高精度古典シミュレーション：-1.166 Hartree であり、小数点以下2桁までしか一致しません。この理由は、上記の処理では、原子核の配置やハートリーフォック展開に伴う多くの近似など、モデリングエラーの原因があるためです。$H_2$ については、これらに対処することができますが、一般的には、これらの原因のうち、より厄介なものを完全に処理することはできません。なぜなら、完全な基底状態を見つけることは、QMA-complete、すなわちNP-completeの量子版である（特定のハミルトニアンについては「解けない」）からです。しかし、自然そのものがこの完全な基底状態を見つけるとは期待されていないので、ある量子計算の解法が自然の解法にどれだけ近似しているかを調べるには、今後の実験が必要となります。"
   ]
  },
  {
   "cell_type": "markdown",
   "id": "ebcb593b",
   "metadata": {},
   "source": [
    "<div align=center class=\"alert alert-block alert-success\">\n",
    "<h1>例題終了</h1>\n",
    "</div>"
   ]
  },
  {
   "cell_type": "markdown",
   "id": "c01f42d1",
   "metadata": {},
   "source": [
    "\n",
    "***\n"
   ]
  },
  {
   "cell_type": "markdown",
   "id": "aba92750",
   "metadata": {},
   "source": [
    "<div align=center class=\"alert alert-block alert-success\">\n",
    "    <h1><a id='challenge'>HIVチャレンジ</a></h1>\n",
    "</div>\n",
    "\n",
    "\n",
    "例題が終了したので、次に、関連する質問に答えながらStep 1～4を洗練させるタスクとしてチャレンジを進めていきます。"
   ]
  },
  {
   "cell_type": "markdown",
   "id": "9ba836cc",
   "metadata": {},
   "source": [
    "<h2><a id='refine_step_1'>1. Step 1の改良: 分子を変化させる</a></h2>\n",
    "\n",
    "Step 1 では、分子の定義を行いました。今回の課題では、まず、プロテアーゼ分子（*ハサミ*）のトイモデルと、近づいてきた抗レトロウイルス（*ブロッカー*）のトイモデルを対応させて、*マクロ分子*を形成する新しい分子を定義する必要があります。次に、Qiskitに接近距離を変化させるように指示する必要があります。それでは、おなじみの水素分子を使って、その方法を学んでみましょう。"
   ]
  },
  {
   "cell_type": "markdown",
   "id": "1e0cf363",
   "metadata": {},
   "source": [
    "*ここでは、私たちが興味を持っている分子の変化（molecular variatio）の種類（すなわち、接近距離を絶対的なステップで変化させること）を指定する方法を紹介します*："
   ]
  },
  {
   "cell_type": "code",
   "execution_count": null,
   "id": "0d66d266",
   "metadata": {},
   "outputs": [],
   "source": [
    "molecular_variation = Molecule.absolute_stretching\n",
    "\n",
    "# 他の種類のmolecular variation:\n",
    "#molecular_variation = Molecule.relative_stretching\n",
    "#molecular_variation = Molecule.absolute_bending\n",
    "#molecular_variation = Molecule.relative_bending"
   ]
  },
  {
   "cell_type": "markdown",
   "id": "f992e7e5",
   "metadata": {},
   "source": [
    "*ここでは、どの原子に変化が適用されるかを指定する方法を説明します。数字はジオメトリーの定義リストの中の原子のインデックスを参照しています。指定されたatom_pairのindex 0の原子が、左にあるindex 1の原子に近づきます。*"
   ]
  },
  {
   "cell_type": "code",
   "execution_count": null,
   "id": "76e54295",
   "metadata": {},
   "outputs": [],
   "source": [
    "specific_molecular_variation = apply_variation_to_atom_pair(molecular_variation, atom_pair=(1, 0))"
   ]
  },
  {
   "cell_type": "markdown",
   "id": "2698a8f7",
   "metadata": {},
   "source": [
    "*例題でご紹介した分子の定義を変更する方法を紹介します。*\n"
   ]
  },
  {
   "cell_type": "code",
   "execution_count": null,
   "id": "bdc68d57",
   "metadata": {},
   "outputs": [],
   "source": [
    "hydrogen_molecule_stretchable = Molecule(geometry=\n",
    "                                 [['H', [0., 0., 0.]],\n",
    "                                  ['H', [0., 0., 0.735]]],\n",
    "                                  charge=0, multiplicity=1,\n",
    "                                  degrees_of_freedom=[specific_molecular_variation])"
   ]
  },
  {
   "cell_type": "markdown",
   "id": "2a39ce4b",
   "metadata": {},
   "source": [
    "\n",
    "変化が起きているかどうかをテストしたい場合は、手動で任意の変化量を指定し（Qiskitはこれを*perturbation*（摂動）と呼びます）、新しいジオメトリーがどうなるかを確認することができます："
   ]
  },
  {
   "cell_type": "code",
   "execution_count": null,
   "id": "bb94cf3a",
   "metadata": {},
   "outputs": [],
   "source": [
    "hydrogen_molecule_stretchable.perturbations = [0.1]"
   ]
  },
  {
   "cell_type": "markdown",
   "id": "39d18495",
   "metadata": {},
   "source": [
    "(上記が指定されていない場合、摂動はゼロとなり、デフォルトでは元のジオメトリになります。)"
   ]
  },
  {
   "cell_type": "code",
   "execution_count": null,
   "id": "547d926e",
   "metadata": {},
   "outputs": [],
   "source": [
    "hydrogen_molecule_stretchable.geometry"
   ]
  },
  {
   "cell_type": "markdown",
   "id": "a3e37f59",
   "metadata": {},
   "source": [
    "ジオメトリーのリストの2番目の原子（atom_pairの最初に指定されているindex 1のもの）だけが、指定した量だけ他の原子に近づいていることに注目してください。異なる接近距離をスキャンする際には、Qiskitが非常に便利に自動化してくれます。"
   ]
  },
  {
   "cell_type": "markdown",
   "id": "c8454c65",
   "metadata": {},
   "source": [
    "## プロテアーゼ＋抗レトロウイルス薬のマクロ分子の特定"
   ]
  },
  {
   "cell_type": "markdown",
   "id": "c3c555fa",
   "metadata": {},
   "source": [
    "### プロテアーゼ\n",
    "\n",
    "実際のプロテアーゼ分子は、約100個のアミノ酸からなる2本のポリペプチド鎖で構成されており（2本の鎖は折りたたまれています）、隣り合うアミノ酸同士はいわゆる*ペプチド結合*で結ばれています。\n",
    "\n",
    "<img src=\"peptide_bond_wikipedia.png\" title=\"Amino Acid bonding\"/>\n",
    "\n",
    "私たちのプロテアーゼ分子のトイモデルは、このペプチド結合からヒントを得ることにしました。ペプチド結合は、多数のアミノ酸を結合しタンパク質を作る基本的な構造です。ペプチド結合は、一般的なタンパク質の折り畳みや、HIVプロテアーゼの切断能力など、タンパク質の化学的性質を決定する最も重要な要素の1つです。\n",
    "\n",
    "計算を簡単にするために、分子のO=C-Nの部分に注目してみましょう。分子をできるだけ現実的なものにするために、十分な量の水素原子(H)を残し、また追加します（実際、HCONH$_2$（ホルムアミド）は安定した分子で、イオン性の溶媒でもあるので、イオン結合を「切る」ことができます。)\n",
    "\n",
    "O=C-Nをプロテアーゼ分子のトイモデルにすること、非常に単純化されてはいますが、それでも生物学的に動機付けされています。\n",
    "これがそのプロテアーゼのトイモデルです：\n",
    "\n",
    "<img width=50% src=\"protease.png\"/>\n",
    "\n",
    "```\n",
    "\"O\":  (1.1280, 0.2091, 0.0000)\n",
    "\"N\": (-1.1878, 0.1791, 0.0000)\n",
    "\"C\": (0.0598, -0.3882, 0.0000)\n",
    "\"H\": (-1.3085, 1.1864, 0.0001)\n",
    "\"H\": (-2.0305, -0.3861, -0.0001)\n",
    "\"H\": (-0.0014, -1.4883, -0.0001)\n",
    "```\n",
    "\n",
    "この分子をハサミに見立てて、HIVウイルスのコピーを作る過程で、HIVのマスタータンパク質（Gag-Pol高タンパク質）を切ることができると想像してみてください：\n",
    "\n",
    "<img width=30% src=\"carpet_scissors_wikipedia_cropped.png\"/>"
   ]
  },
  {
   "cell_type": "markdown",
   "id": "4517606b",
   "metadata": {},
   "source": [
    "### 抗レトロウイルス\n",
    "\n",
    "抗レトロウイルス剤とは、プロテアーゼと結合して、その**切断機構を阻害する**分子のことです。今回のチャレンジでは、1個の炭素原子(C)を抗レトロウイルス分子の代用とします。\n",
    "\n",
    "<img width=10% src=\"arv.png\"/>\n",
    "\n",
    "### マクロ分子\n",
    "2つの分子は私たちの頭の中では別々になっていますが、接近すると、外側の電子がすべての原子の周りに分子軌道を形成して、1つのマクロ分子になります。\n",
    "\n",
    "水素の例題で説明したように、量子的な電子分布は原子の位置を固定して計算されるので、原子を個別に配置する必要があります。1つ目と2つ目の課題では、プロテアーゼの座標を固定し、抗レトロウイルスの位置だけを直線に沿って変化させます。\n",
    "\n",
    "その際、任意の点を通り、窒素原子(N)に近づくアプローチの線を選びます。この「ブロック」と呼ばれるアプローチは、ハサミが切るのを邪魔しようとするものです。それが「刺さった」となれば成功で、HIVの複製活動を妨害することに成功したことになります。"
   ]
  },
  {
   "cell_type": "markdown",
   "id": "64991092",
   "metadata": {},
   "source": [
    "<h2><a id='exercise_3a'>Exercise 3a: ブロッキングアプローチによるマクロ分子の分子定義</a></h2>\n",
    "\n",
    "抗レトロウイルス剤が「刃」の間にある窒素原子（N）に接近する様子を表現するために、分子定義と分子変化を構築します：\n",
    "<img width=50% src=\"arv_approaches_protease.png\"/>\n",
    " ```\n",
    " \"C\": (-0.1805, 1.3955, 0.0000)\n",
    " ```"
   ]
  },
  {
   "cell_type": "markdown",
   "id": "91cc50b5",
   "metadata": {},
   "source": [
    "## ここにコードを書いてください："
   ]
  },
  {
   "cell_type": "markdown",
   "id": "38d43a75",
   "metadata": {},
   "source": [
    "下のセルにあなたの分子を作ってください。分子の名前は必ず`macromolecule`としてください。"
   ]
  },
  {
   "cell_type": "code",
   "execution_count": null,
   "id": "21e2b028",
   "metadata": {},
   "outputs": [],
   "source": [
    "## ここにコードを書いてください\n",
    "\n",
    "macromolecule = None\n",
    "\n",
    "##"
   ]
  },
  {
   "cell_type": "markdown",
   "id": "55efa125",
   "metadata": {},
   "source": [
    "以下のセルを実行して、答えを確認します。"
   ]
  },
  {
   "cell_type": "code",
   "execution_count": null,
   "id": "fd7b3bda",
   "metadata": {},
   "outputs": [],
   "source": [
    "from qc_grader import grade_ex3a\n",
    "\n",
    "grade_ex3a(molecule=macromolecule)"
   ]
  },
  {
   "cell_type": "markdown",
   "id": "1da9ee6a",
   "metadata": {},
   "source": [
    "<h2><a id='refine_step_2'>2. Step 2の改良：量子ワークロードの削減</a></h2>"
   ]
  },
  {
   "cell_type": "markdown",
   "id": "87c810f4",
   "metadata": {},
   "source": [
    "Step 2では、量子ビット・ハミルトニアンを構築しました。上記のマクロ分子にStep 2以降を適用しようとすると、基底状態計算シミュレーションは失敗します。なぜかというと、電荷を0に指定しましたが、Qiskitは30(=2\\*6(2個の炭素)+7(窒素)+8(酸素)+3\\*1(3つの水素))個の電子で動作しなければならないことを知っているからです。これは、第二量子化を行うと、60個のスピン軌道に変換されるので、60量子ビットが必要となります。60量子ビットは、私たちが古典シミュレーションできる範囲を超えており、60量子ビット以上のIBM量子システムもありますが、私たちは使えません。したがって、このチャレンジの目的のために、量子ビットの数を減らす必要があります。幸いなことに、この量子ビット数の削減は化学的な観点からも理由があります。正確な化学的結果を得るためには、内殻電子に対して古典的なハートリーフォック近似で十分な場合があります。さらに幸いなことに、Qiskitはつい最近拡張され、特定の電子を量子計算で処理し、残りの電子を古典的に近似するようにユーザーがシームレスに指定できるようになりました。今後、さらに多くの量子ビットが使えるようになったとしても、近未来の量子コンピューターが通常では手の届かない非常に大きな分子に取り組む際に、この機能は非常に有用であることがわかるでしょう。"
   ]
  },
  {
   "cell_type": "markdown",
   "id": "19db3033",
   "metadata": {},
   "source": [
    "*そこで次に、Qiskitに指示して、ある数の電子に量子計算処理をさせる方法を紹介します：*"
   ]
  },
  {
   "cell_type": "code",
   "execution_count": null,
   "id": "f7a4c3b5",
   "metadata": {},
   "outputs": [],
   "source": [
    "macro_molecular_orbital_maker = PySCFDriver(molecule=macromolecule, unit=UnitsType.ANGSTROM, basis='sto3g')\n",
    "split_into_classical_and_quantum = ActiveSpaceTransformer(num_electrons=2, num_molecular_orbitals=2)\n",
    "macro_fermionic_hamiltonian = ElectronicStructureProblem(macro_molecular_orbital_maker, [split_into_classical_and_quantum])"
   ]
  },
  {
   "cell_type": "markdown",
   "id": "79ec4a80",
   "metadata": {},
   "source": [
    "上記のように、Qiskitには**ActiveSpaceTransformer**というクラスがあり、2つの引数を受け取ります。1つ目は、量子計算処理を受けるべき電子の数です（一番外側の電子から順に選んでいきます）。2つ目は、それらの電子が自由に動き回れるようにするための軌道の数（いわゆるフェルミ準位）です。必要な量子ビット数を決めるのは、この2つ目の数です。（NとCの結合なのでそれぞれ1個ずつ合計2個の電子をアクティブな電子として扱い、それ以外の内殻電子は非アクティブな電子とする。）"
   ]
  },
  {
   "cell_type": "markdown",
   "id": "87abae47",
   "metadata": {},
   "source": [
    "<h2><a id='exercise_3b'>Exercise 3b: 古典-量子処理に関する概念的な質問（多肢選択式)</a></h2>\n",
    "\n",
    "Q1: 高分子の外側の電子を先に量子処理する方がヒューリスティックな意味を持つのはなぜですか？\n",
    "\n",
    "```\n",
    "A: 外側の電子の方が結合エネルギーが高く、基底状態のエネルギーの揺れが大きいため、量子処理が必要になります。\n",
    "B: 外側の電子は軌道が広がっているので、量子干渉が多くなるからです。\n",
    "C: 内殻電子は通常、より素直に軌道を占有します。なぜなら、ほとんどの場合、単一の原子核の周りを回るので、外殻電子と相互作用したりエンタングルしたりしてもエネルギーがあまり下がらないからです。\n",
    "\n",
    "```\n",
    "\n",
    "Q2: 量子で扱う電子の数が一定の場合、それらの電子が周回する（アクセスできる）軌道の数を増やすと、計算される基底状態のエネルギーは、上からも下からも漸近的なエネルギーに近づくのでしょうか？\n",
    "```\n",
    "A: 漸近エネルギーは上から近づいてきます。なぜなら、電子がアクセスできる軌道の数を増やせば増やすほど、基底状態は低くなる可能性があるからです。\n",
    "B: 漸近エネルギーは下から近づきます。なぜなら、可能な軌道を増やせば増やすほど、シミュレーションがより正確になり、以前は除外されていたエネルギーが追加されるからです。\n",
    "C: 漸近エネルギーは下から近づきます。なぜなら、電子がアクセスできる可能性のある軌道を増やせば増やすほど、基底状態が低くなる可能性があるからです。\n",
    "D: 漸近エネルギーは上から近づきます。なぜなら、可能な軌道を増やせば増やすほど、シミュレーションがより正確になり、以前は省かれていたエネルギーが追加されるからです。\n",
    "```"
   ]
  },
  {
   "cell_type": "markdown",
   "id": "b1252d11",
   "metadata": {},
   "source": [
    "**これらの多肢選択問題に対する解答を、以下のコードセルでアンコメントしてください。答えを確認するためにセルを実行してください。**"
   ]
  },
  {
   "cell_type": "code",
   "execution_count": null,
   "id": "f75591f0",
   "metadata": {},
   "outputs": [],
   "source": [
    "from qc_grader import grade_ex3b\n",
    "\n",
    "## Q1\n",
    "# answer_for_ex3b_q1 = 'A'\n",
    "# answer_for_ex3b_q1 = 'B'\n",
    "# answer_for_ex3b_q1 = 'C'\n",
    "##\n",
    "answer_for_ex3b_q1 = ''\n",
    "## Q2\n",
    "# answer_for_ex3b_q2 = 'A'\n",
    "# answer_for_ex3b_q2 = 'B'\n",
    "# answer_for_ex3b_q2 = 'C'\n",
    "# answer_for_ex3b_q2 = 'D'\n",
    "##\n",
    "answer_for_ex3b_q2 = ''\n",
    "\n",
    "grade_ex3b(answer_for_ex3b_q1, answer_for_ex3b_q2)"
   ]
  },
  {
   "cell_type": "markdown",
   "id": "515a2079",
   "metadata": {},
   "source": [
    "<h2><a id='refine_step_4'>3. Step 4の改良：エネルギー曲面</a></h2>"
   ]
  },
  {
   "cell_type": "markdown",
   "id": "159740b6",
   "metadata": {},
   "source": [
    "Step 4では、与えられた分子に対して一度だけ ground_state solver を実行しましたが、上で紹介した仕様を使ってQiskitに分子の形状を変化させるように指示する方法はまだ説明していません。冒頭で説明したように、原子核の位置を変えて全エネルギーレベルを比較することで、最もエネルギーが低い原子核の配置を見つける方法です。最も低いエネルギーが「無限大」で**ない**場合、これはエネルギーが最小となる分子の「安定した」結合状態に相当します。このように、エネルギーを原子間距離の関数として求めることは、非常に重要な研究対象です。この関数は **Born-Oppenheimer Potential Energy Surface (BOPES)** と呼ばれています。Qiskit は、形状を変化させ、ground_state solver を繰り返し呼び出すこのプロセスを管理する便利な python クラスを提供します。: **BOPESSampler** です。\n",
    "\n",
    "水素分子のBOPESSamplerをデモしてみましょう。\n",
    "\n",
    "*水素分子の例題で再実行する必要があるのは、Steps 1 と2aだけです：*"
   ]
  },
  {
   "cell_type": "code",
   "execution_count": null,
   "id": "709b6ff7",
   "metadata": {},
   "outputs": [],
   "source": [
    "hydrogen_stretchable_molecular_orbital_maker = PySCFDriver(molecule=hydrogen_molecule_stretchable, unit=UnitsType.ANGSTROM, basis='sto3g')\n",
    "hydrogen_stretchable_fermionic_hamiltonian = ElectronicStructureProblem(hydrogen_stretchable_molecular_orbital_maker)"
   ]
  },
  {
   "cell_type": "markdown",
   "id": "167e591b",
   "metadata": {},
   "source": [
    "*次に、サンプラーの呼び出し方です。：*"
   ]
  },
  {
   "cell_type": "code",
   "execution_count": null,
   "id": "6730b330",
   "metadata": {},
   "outputs": [],
   "source": [
    "energy_surface = BOPESSampler(gss=hydrogen_ground_state, bootstrap=False) # 試行が同じなので、Step4で設定したソルバーで十分です\n",
    "perturbation_steps = np.linspace(-0.5, 2, 25) # 0.5～2までの25点を等間隔に配置する\n",
    "\n",
    "energy_surface_result = energy_surface.sample(hydrogen_stretchable_fermionic_hamiltonian, perturbation_steps)"
   ]
  },
  {
   "cell_type": "markdown",
   "id": "c28501d2",
   "metadata": {},
   "source": [
    "*次に、有名なエネルギー曲面のプロット作成方法です。：*"
   ]
  },
  {
   "cell_type": "code",
   "execution_count": null,
   "id": "d1537a2d",
   "metadata": {},
   "outputs": [],
   "source": [
    "def plot_energy_landscape(energy_surface_result):\n",
    "    if len(energy_surface_result.points) > 1:\n",
    "        plt.plot(energy_surface_result.points, energy_surface_result.energies, label=\"VQE Energy\")\n",
    "        plt.xlabel('Atomic distance Deviation(Angstrom)')\n",
    "        plt.ylabel('Energy (hartree)')\n",
    "        plt.legend()\n",
    "        plt.show()\n",
    "    else:\n",
    "        print(\"Total Energy is: \", energy_surface_result.energies[0], \"hartree\")\n",
    "        print(\"(No need to plot, only one configuration calculated.)\")\n",
    "    \n",
    "plot_energy_landscape(energy_surface_result)"
   ]
  },
  {
   "cell_type": "markdown",
   "id": "895affa1",
   "metadata": {},
   "source": [
    "直感的には、エネルギー地形を、山と谷、そしてボールが転がる台地の隣にあると考えるとよいでしょう（ボールのx座標は、2つの水素原子の間隔に対応します）。ボールが台地を転がる速度が速すぎなければ（右から左へ）、ボールは谷に落ち着くかもしれません。傾きが正（2つの水素原子の間に引力があることを表す）なので、ボールはゆっくりと台地を転がり落ちます。ボールが谷である最小点を通り越すと、山の急な負の傾きの斜面にぶつかり、すぐに転がり戻ってしまいます（水素原子は互いに反発します）。\n",
    "\n",
    "ここで、最小値がゼロであることに注目してください。これは、水素分子の原子核の位置を、既知の基底状態の位置に定義したからです。\n",
    "\n",
    "ちなみに、hardware_inspired_trialを使えば、同じようなプロットができたと思いますが、Anzatzが異なる結合長で電子基底状態を均等に捕らえることができないため、凸凹ができたと思われます。"
   ]
  },
  {
   "cell_type": "markdown",
   "id": "f3a658a3",
   "metadata": {},
   "source": [
    "<h2><a id='exercise_3c'>Exercise 3c: エネルギー曲面　結合するかしないか？</a></h2>\n",
    "\n",
    "100万ドルの質問です：私たちの抗レトロウイルス剤のトイモデルはプロテアーゼと結合し、反応をブロックするのでしょうか？\n",
    "\n",
    " - 30点で-0.5から5までの最小値を探します。\n",
    " - 2つの軌道を回る2つの電子を量子コンピューターで扱います。\n",
    "\n",
    "Q1. \n",
    "抗レトロウイルス剤がプロテアーゼに接近したときのエネルギー・ランドスケープを作成してください。\n",
    "\n",
    "Q2. \n",
    "有限の距離に明確な最小値はありますか？結合は起こりますか？\n",
    "\n",
    "```\n",
    "A. はい。0で明確な最小値がありますので、結合は起こります。\n",
    "B. はい。無限大に明確な最小値があるので、結合は無限大でのみ起こります。\n",
    "C. いいえ。どのような分離でも明確な最小値はなく、分離がないので結合が起こります。\n",
    "D. いいえ。どのような分離にも明確な最小値はないので、結合はありません。\n",
    "```\n",
    "\n",
    "(答えを先取りしないでください。さらに、他のアプローチや他の設定でも答えが変わる可能性がありますので、要求された設定に従ってください)"
   ]
  },
  {
   "cell_type": "markdown",
   "id": "08177d65",
   "metadata": {},
   "source": [
    "*次の関数を自由に使ってください。この関数は、水素分子で行った例題のStepとそのうちのStep 2と4の改良版です。この関数には、分子（Step 1の改良タイプ）、その他の改良点、VQEとnumpy solverのどちらを使用するかのブール値が渡されます。*"
   ]
  },
  {
   "cell_type": "code",
   "execution_count": null,
   "id": "ddf6ca3e",
   "metadata": {},
   "outputs": [],
   "source": [
    "def construct_hamiltonian_solve_ground_state(\n",
    "    molecule,\n",
    "    num_electrons=2,\n",
    "    num_molecular_orbitals=2,\n",
    "    chemistry_inspired=True,\n",
    "    hardware_inspired_trial=None,\n",
    "    vqe=True,\n",
    "    perturbation_steps=np.linspace(-1, 1, 3),\n",
    "):\n",
    "    \"\"\"Creates fermionic Hamiltonion and solves for the energy surface.\n",
    "    フェルミ演算子ハミルトニアンを作り、エネルギー面を作ります\n",
    "\n",
    "    Args:\n",
    "        molecule (Union[qiskit_nature.drivers.molecule.Molecule, NoneType]): シミュレートする分子\n",
    "        num_electrons (int, optional): `ActiveSpaceTransformer`の電子の数。デフォルトは2。\n",
    "        num_molecular_orbitals (int, optional): `ActiveSpaceTransformer`の電子軌道の数。デフォルトは2。\n",
    "        chemistry_inspired (bool, optional): 化学にヒントを得た試行状態を使うかどうか。使う場合は、`hardware_inspired_trial`は`None`でなければならない。デフォルトはTrue。\n",
    "        hardware_inspired_trial (QuantumCircuit, optional): ハードウェアにヒントを得た試行状態を使うかどうか。使う場合は、`chemistry_inspired`はFalse。デフォルトはNone。\n",
    "        vqe (bool, optional): VQEをエネルギー面の計算に使うかどうか。Falseの場合は、`NumPyMinimumEigensolver。デフォルトはTrue。\n",
    "        perturbation_steps (Union(list,numpy.ndarray), optional): 摂動のステップ。評価する点。この場合は距離（単位はÅ）。 デフォルトはnp.linspace(-1, 1, 3)。\n",
    "\n",
    "    Raises:\n",
    "        RuntimeError: `chemistry_inspired`と`hardware_inspired_trial`は同時には使えません。`chemistry_inspired`がFalseかまたは、`hardware_inspired_trial`を`None`にしてください。\n",
    "\n",
    "    Returns:\n",
    "        qiskit_nature.results.BOPESSamplerResult: BOPESSamplerResultオブジェクトとしてのエネルギー面。\n",
    "    \"\"\"\n",
    "    # `chemistry_inspired`とhardware_inspired_trial`がコンフリクトしていないことを確認\n",
    "    if chemistry_inspired and hardware_inspired_trial is not None:\n",
    "        raise RuntimeError(\n",
    "            (\n",
    "                \"chemistry_inspired and hardware_inspired_trial\"\n",
    "                \" cannot both be set. Either chemistry_inspired\"\n",
    "                \" must be False or hardware_inspired_trial must be none.\"\n",
    "            )\n",
    "        )\n",
    "\n",
    "    # Step 1 の改良版が渡されました\n",
    "\n",
    "    # Step 2a\n",
    "    molecular_orbital_maker = PySCFDriver(\n",
    "        molecule=molecule, unit=UnitsType.ANGSTROM, basis=\"sto3g\"\n",
    "    )\n",
    "\n",
    "    # Step 2a の改良版\n",
    "    split_into_classical_and_quantum = ActiveSpaceTransformer(\n",
    "        num_electrons=num_electrons, num_molecular_orbitals=num_molecular_orbitals\n",
    "    )\n",
    "\n",
    "    fermionic_hamiltonian = ElectronicStructureProblem(\n",
    "        molecular_orbital_maker, [split_into_classical_and_quantum]\n",
    "    )\n",
    "    fermionic_hamiltonian.second_q_ops()\n",
    "\n",
    "    # Step 2b\n",
    "    map_fermions_to_qubits = QubitConverter(JordanWignerMapper())\n",
    "\n",
    "    # Step 3a\n",
    "    if chemistry_inspired:\n",
    "        molecule_info = fermionic_hamiltonian.grouped_property_transformed\n",
    "        particle_number = molecule_info.get_property(ParticleNumber)\n",
    "        num_spin_orbitals = particle_number.num_spin_orbitals\n",
    "        num_electrons_spin_up_spin_down = (\n",
    "            particle_number.num_alpha,\n",
    "            particle_number.num_beta,\n",
    "        )\n",
    "        initial_state = HartreeFock(\n",
    "            num_spin_orbitals, num_electrons_spin_up_spin_down, map_fermions_to_qubits\n",
    "        )\n",
    "\n",
    "        chemistry_inspired_trial = UCCSD(\n",
    "            map_fermions_to_qubits,\n",
    "            num_electrons_spin_up_spin_down,\n",
    "            num_spin_orbitals,\n",
    "            initial_state=initial_state,\n",
    "        )\n",
    "\n",
    "        trial_state = chemistry_inspired_trial\n",
    "    else:\n",
    "        if hardware_inspired_trial is None:\n",
    "            hardware_inspired_trial = TwoLocal(\n",
    "                rotation_blocks=[\"ry\"],\n",
    "                entanglement_blocks=\"cz\",\n",
    "                entanglement=\"linear\",\n",
    "                reps=2,\n",
    "            )\n",
    "\n",
    "        trial_state = hardware_inspired_trial\n",
    "\n",
    "    # Step 3b \n",
    "    if vqe:\n",
    "        noise_free_quantum_environment = QuantumInstance(Aer.get_backend('statevector_simulator'))\n",
    "        solver = VQE(ansatz=trial_state, quantum_instance=noise_free_quantum_environment)\n",
    "    else:\n",
    "        solver = NumPyMinimumEigensolver()\n",
    "\n",
    "    # Step 4 \n",
    "    ground_state = GroundStateEigensolver(map_fermions_to_qubits, solver)\n",
    "\n",
    "    # Step 4 の改良版\n",
    "    energy_surface = BOPESSampler(gss=ground_state, bootstrap=False)\n",
    "    energy_surface_result = energy_surface.sample(\n",
    "        fermionic_hamiltonian, perturbation_steps\n",
    "    )\n",
    "\n",
    "    return energy_surface_result"
   ]
  },
  {
   "cell_type": "markdown",
   "id": "29270c5c",
   "metadata": {},
   "source": [
    "### あなたの答え"
   ]
  },
  {
   "cell_type": "code",
   "execution_count": null,
   "id": "f5faff96",
   "metadata": {},
   "outputs": [],
   "source": []
  },
  {
   "cell_type": "markdown",
   "id": "e42d2297",
   "metadata": {},
   "source": [
    "\n",
    "以下のコードセルは、`construct_hamiltonian_solve_ground_state` を呼び出し、その結果をプロットするためのスケルトンを示しています。自分の結果に自信が持てたら、次のコードセルに投稿してください。\n",
    "\n",
    "**注意： `construct_hamiltonian_solve_ground_state` の実行には時間がかかります（約2分）。すぐに結果が返ってこなくても心配しないでください。**\n"
   ]
  },
  {
   "cell_type": "code",
   "execution_count": null,
   "id": "a54f03bc",
   "metadata": {},
   "outputs": [],
   "source": [
    "# Q1\n",
    "\n",
    "# Calculate the energies\n",
    "#q1_energy_surface_result = construct_hamiltonian_solve_ground_state(\n",
    "#    molecule=None,\n",
    "#    num_electrons=None,\n",
    "#    num_molecular_orbitals=None,\n",
    "#    chemistry_inspired=None,\n",
    "#    vqe=None,\n",
    "#    perturbation_steps=None,\n",
    "#)"
   ]
  },
  {
   "cell_type": "code",
   "execution_count": null,
   "id": "91695af9",
   "metadata": {},
   "outputs": [],
   "source": [
    "# Plot the energies to visualize the results\n",
    "# plot_energy_landscape(energy_surface_result)"
   ]
  },
  {
   "cell_type": "code",
   "execution_count": null,
   "id": "763fab33",
   "metadata": {},
   "outputs": [],
   "source": [
    "## Q2\n",
    "# answer_for_ex3c_q2 = 'A'\n",
    "# answer_for_ex3c_q2 = 'B'\n",
    "# answer_for_ex3c_q2 = 'C'\n",
    "# answer_for_ex3c_q2 = 'D'\n",
    "answer_for_ex3c_q2 = ''"
   ]
  },
  {
   "cell_type": "markdown",
   "id": "c5e0b446",
   "metadata": {},
   "source": [
    "得られた結果に満足したら、次のセルで `construct_hamiltonian_solve_ground_state` のエネルギーとパラメータを送信します。`energy_surface`を除くすべてのパラメータの値を、`construct_hamiltonian_solve_ground_state`の呼び出しで使用したものと同じ値に変更します。"
   ]
  },
  {
   "cell_type": "code",
   "execution_count": null,
   "id": "f739ab8d",
   "metadata": {},
   "outputs": [],
   "source": [
    "from qc_grader import grade_ex3c\n",
    "\n",
    "grade_ex3c(\n",
    "    energy_surface=None, #q1_energy_surface_result.energies,\n",
    "    molecule=None,\n",
    "    num_electrons=None,\n",
    "    num_molecular_orbitals=None,\n",
    "    chemistry_inspired=None,\n",
    "    hardware_inspired_trial=None,\n",
    "    vqe=None,\n",
    "    perturbation_steps=None,\n",
    "    q2_multiple_choice=answer_for_ex3c_q2\n",
    ")"
   ]
  },
  {
   "cell_type": "markdown",
   "id": "72719f23",
   "metadata": {},
   "source": [
    "<h2><a id='refine_step_3a'>4. Step 3aの改良</a></h2>"
   ]
  },
  {
   "cell_type": "markdown",
   "id": "b7b46591",
   "metadata": {},
   "source": [
    "最後の改良は、ブラックボックスでの調整がどのように結果を改善するかのレッスンです。\n",
    "\n",
    "Step 3aでは，hardware_inspired_trialを現在の実際のハードウェア上で実行するように設計しました。水素分子での例題でのこの行を思い出してください："
   ]
  },
  {
   "cell_type": "code",
   "execution_count": null,
   "id": "edb459e7",
   "metadata": {},
   "outputs": [],
   "source": [
    "hardware_inspired_trial = TwoLocal(rotation_blocks = ['ry'], entanglement_blocks = 'cz',\n",
    "                                   entanglement='linear', reps=2)"
   ]
  },
  {
   "cell_type": "markdown",
   "id": "5b2873fa",
   "metadata": {},
   "source": [
    "ここでは、`reps` (repetition) パラメーターについて説明します。このパラメーターは、トライアルの状態で、混合と回転を何ラウンド繰り返すかを制御します。具体的には、最初に回転のラウンドがあり、その後、混合（パラメーターを含まないことが多い）と回転のラウンドが繰り返されます。パラメーターがないゲートもあります（例：`h`, `cz`）。回転のラウンドごとに、古典オプティマイザーが基底状態を探索する際に調整するパラメーターのセットが追加されます。\n",
    "\n",
    "簡単な水素分子をもう一度見て、化学にヒントを得た試行状態、numpy solver、摂動なしを使って、「理想的な」最低エネルギーの電子エネルギーを計算してみましょう："
   ]
  },
  {
   "cell_type": "code",
   "execution_count": null,
   "id": "5ba201e8",
   "metadata": {},
   "outputs": [],
   "source": [
    "true_total_energy = construct_hamiltonian_solve_ground_state(\n",
    "                                molecule=hydrogen_molecule_stretchable,  # Step 1\n",
    "                                num_electrons=2,                         # Step 2a\n",
    "                                num_molecular_orbitals=2,                # Step 2a\n",
    "                                chemistry_inspired=True,                 # Step 3a\n",
    "                                vqe=False,                               # Step 3b\n",
    "                                perturbation_steps = [0])                # Step 4\n",
    "plot_energy_landscape(true_total_energy)"
   ]
  },
  {
   "cell_type": "markdown",
   "id": "bd381377",
   "metadata": {},
   "source": [
    "残りの実験では、上記の値を真の値として参照します。\n",
    "\n",
    "*次に，`chemistry_inspired=False`, `vqe=True` を選択し，1ラウンドのハードウェアにヒントを得た試行状態を行います*："
   ]
  },
  {
   "cell_type": "code",
   "execution_count": null,
   "id": "37b42ab1",
   "metadata": {},
   "outputs": [],
   "source": [
    "hardware_inspired_trial = TwoLocal(rotation_blocks = ['ry'], entanglement_blocks = 'cz',\n",
    "                                   entanglement='linear', reps=1)\n",
    "\n",
    "quantum_calc_total_energy = construct_hamiltonian_solve_ground_state(\n",
    "                                molecule=hydrogen_molecule_stretchable,           # Step 1\n",
    "                                num_electrons=2,                                  # Step 2a\n",
    "                                num_molecular_orbitals=2,                         # Step 2a\n",
    "                                chemistry_inspired=False,                         # Step 3a\n",
    "                                hardware_inspired_trial=hardware_inspired_trial,  # Step 3a\n",
    "                                vqe=True,                                         # Step 3b\n",
    "                                perturbation_steps = [0])                         # Step 4\n",
    "plot_energy_landscape(quantum_calc_total_energy)"
   ]
  },
  {
   "cell_type": "markdown",
   "id": "495ad419",
   "metadata": {},
   "source": [
    "*差は小さく、正であることがわかります：*\n"
   ]
  },
  {
   "cell_type": "code",
   "execution_count": null,
   "id": "d099f5be",
   "metadata": {},
   "outputs": [],
   "source": [
    "quantum_calc_total_energy.energies[0] - true_total_energy.energies[0]"
   ]
  },
  {
   "cell_type": "markdown",
   "id": "8b18d949",
   "metadata": {},
   "source": [
    "*試行状態のパラメーターの数を見てみましょう：*"
   ]
  },
  {
   "cell_type": "code",
   "execution_count": null,
   "id": "46dc084d",
   "metadata": {},
   "outputs": [],
   "source": [
    "total_number_of_parameters = len(hardware_inspired_trial._ordered_parameters)\n",
    "print(\"Total number of adjustable parameters: \", total_number_of_parameters)"
   ]
  },
  {
   "cell_type": "markdown",
   "id": "36034cd0",
   "metadata": {},
   "source": [
    "<h2><a id='exercise_3d'>Exercise 3d: 反復回数が多い場合の効果</a></h2>"
   ]
  },
  {
   "cell_type": "markdown",
   "id": "5ca31c2f",
   "metadata": {},
   "source": [
    "Q1: \n",
    "反復`reps`数を1（すでに実行しています）と2にして、誤差を比較してみてください。`reps`数を増やすと誤差増えますか？減りますか？それとも変わらないですか？\n",
    "\n",
    "以下の点に注意してください：\n",
    "\n",
    " - VQEは統計的なアルゴリズムなので、何度か実行してからパターンを観察してみてください。\n",
    " - 2を超えると、パターンが継続しないかもしれません。\n",
    " - `reps` は `TwoLocal` で定義されています。\n",
    "\n",
    "Q2: \n",
    "`reps` が 1 と 2 の場合のパラメーターの総数を調べてみましょう。1回の回転で何個のパラメーターが導入されますか？"
   ]
  },
  {
   "cell_type": "markdown",
   "id": "7a11395d",
   "metadata": {},
   "source": [
    "## 答えをここに書いてください:"
   ]
  },
  {
   "cell_type": "markdown",
   "id": "11d16b82",
   "metadata": {},
   "source": [
    "**下のコードセルの最初の多肢選択問題の答えのコメントを外して，Q2の答えを追加してください．セルを実行して、答えを確認してください。**"
   ]
  },
  {
   "cell_type": "code",
   "execution_count": null,
   "id": "465a2a47",
   "metadata": {},
   "outputs": [],
   "source": [
    "from qc_grader import grade_ex3d\n",
    "\n",
    "## Q1\n",
    "# answer_for_ex3d_q1 = 'decreases'\n",
    "# answer_for_ex3d_q1 = 'increases'\n",
    "# answer_for_ex3d_q1 = 'stays the same'\n",
    "##\n",
    "answer_for_ex3d_q1 = ''\n",
    "\n",
    "## Q2\n",
    "answer_for_ex3d_q2 = 0\n",
    "##\n",
    "\n",
    "grade_ex3d(answer_for_ex3d_q1, answer_for_ex3d_q2)"
   ]
  },
  {
   "cell_type": "markdown",
   "id": "1fd8800f",
   "metadata": {},
   "source": [
    "<h2><a id='exercise_3e'>Exercise 3e: 自由形式：マクロ分子のエネルギー誤差を最小化するための最適なhardware_inspired_trialを見つけよう</a></h2>"
   ]
  },
  {
   "cell_type": "markdown",
   "id": "5cc95b3d",
   "metadata": {},
   "source": [
    "再びマクロ分子に目を向けてみましょう。`chemistry_inspired=False`, `vqe=True`, `perturbation_steps = [0]`、最大8量子ビット、例題のオプションを任意に組み合わせた独自の`hardware_inspired_trial`を使用して、最も低いエネルギーを見つけてください。この課題の解答には、`construct_hamiltonian_solve_ground_state` に渡されたすべてのパラメーターと、それが返す結果オブジェクトが含まれます。この課題は、計算したエネルギー $E_{computed}$ がマクロ分子の「真の」最小エネルギー $E_{true}$にどれだけ近いかで得点化するものです。このスコアは以下のように計算され、最も近い整数に丸められます。"
   ]
  },
  {
   "cell_type": "markdown",
   "id": "3ae303b4",
   "metadata": {},
   "source": [
    "$$\\text{score} = -10 \\times \\log_{10}{\\left(\\left\\lvert{\\frac{E_{true} - E_{computed}}{E_{true}}}\\right\\rvert\\right)}$$"
   ]
  },
  {
   "cell_type": "markdown",
   "id": "79aad0f7",
   "metadata": {},
   "source": [
    "計算したエネルギーの誤差を小さくすることで、スコアが上がります。例えば、真のエネルギーが-42.141で、-40.0を計算した場合、スコアは13となります。次のコードセルを使って，さまざまな `hardware_inspired_trial` を試してみてください。"
   ]
  },
  {
   "cell_type": "code",
   "execution_count": null,
   "id": "ba8c0bdb",
   "metadata": {},
   "outputs": [],
   "source": [
    "# 以下の変数を変えてください\n",
    "num_electrons = \n",
    "num_molecular_orbitals = \n",
    "hardware_inspired_trial = \n",
    "#\n",
    "\n",
    "computed_macromolecule_energy_result = construct_hamiltonian_solve_ground_state(\n",
    "    molecule=macromolecule,\n",
    "    num_electrons=num_electrons,\n",
    "    num_molecular_orbitals=num_molecular_orbitals,\n",
    "    chemistry_inspired=False,\n",
    "    hardware_inspired_trial=hardware_inspired_trial,\n",
    "    vqe=True,\n",
    "    perturbation_steps=[0],\n",
    ")"
   ]
  },
  {
   "cell_type": "markdown",
   "id": "f9c6e0aa",
   "metadata": {},
   "source": [
    "以下のコードセルを実行して、計算されたエネルギーを採点します。複数回の実行が可能です。"
   ]
  },
  {
   "cell_type": "code",
   "execution_count": null,
   "id": "0242a7e6",
   "metadata": {},
   "outputs": [],
   "source": [
    "from qc_grader import grade_ex3e\n",
    "\n",
    "grade_ex3e(\n",
    "    energy_surface_result=computed_macromolecule_energy_result,\n",
    "    molecule=macromolecule,\n",
    "    num_electrons=num_electrons,\n",
    "    num_molecular_orbitals=num_molecular_orbitals,\n",
    "    chemistry_inspired=False,\n",
    "    hardware_inspired_trial=hardware_inspired_trial,\n",
    "    vqe=True,\n",
    "    perturbation_steps=[0],\n",
    ")"
   ]
  },
  {
   "cell_type": "markdown",
   "id": "0c0e4066",
   "metadata": {},
   "source": [
    "----------------"
   ]
  },
  {
   "cell_type": "markdown",
   "id": "24c9a528",
   "metadata": {},
   "source": [
    "#### <a id='qresource'>Quantum Chemistry Resources</a>\n",
    "*Videos*\n",
    "- *Quantum Chemistry I: Obtaining the Qubit Hamiltonian* \n",
    "    - https://www.youtube.com/watch?v=2XEjrwWhr88\n",
    "- *Quantum Chemistry II: Finding the Ground States* \n",
    "    - https://www.youtube.com/watch?v=_UW6puuGa5E \n",
    "    - https://www.youtube.com/watch?v=o4BAOKbcd3o\n",
    "*Tutorials*\n",
    "- https://qiskit.org/documentation/nature/tutorials/01_electronic_structure.html \n",
    "- https://qiskit.org/documentation/nature/tutorials/03_ground_state_solvers.html \n",
    "- https://qiskit.org/documentation/nature/tutorials/05_Sampling_potential_energy_surfaces.html\n",
    "*Code References*\n",
    "- UCCSD : https://qiskit.org/documentation/stubs/qiskit.chemistry.components.variational_forms.UCCSD.html\n",
    "- ActiveSpaceTransformer: https://qiskit.org/documentation/nature/stubs/qiskit_nature.transformers.second_quantization.electronic.ActiveSpaceTransformer.html?highlight=activespacetransformer#qiskit_nature.transformers.second_quantization.electronic.ActiveSpaceTransformer"
   ]
  },
  {
   "cell_type": "markdown",
   "id": "a4107077",
   "metadata": {},
   "source": [
    "Licensing and notes:\n",
    "- All images used, with gratitude, are listed below with their respective licenses:\n",
    "  - https://de.wikipedia.org/wiki/Datei:Teppichschere.jpg by CrazyD is licensed under CC BY-SA 3.0\n",
    "  - https://commons.wikimedia.org/wiki/File:The_structure_of_the_immature_HIV-1_capsid_in_intact_virus_particles.png by MarinaVladivostok is licensed under CC0 1.0\n",
    "  - https://commons.wikimedia.org/wiki/File:Peptidformationball.svg by YassineMrabet is licensed under the public domain\n",
    "  - The remaining images are either IBM-owned, or hand-generated by the authors of this notebook.\n",
    "\n",
    "- HCONH2 (Formamide) co-ordinates kindly provided by the National Library of Medicine:\n",
    "  - `National Center for Biotechnology Information (2021). PubChem Compound Summary for CID 713, Formamide. https://pubchem.ncbi.nlm.nih.gov/compound/Formamide.`\n",
    "- For further information about the Pauli exclusion principle:\n",
    "https://en.wikipedia.org/wiki/Pauli_exclusion_principle\n",
    "- We would like to thank collaborators, Prof Yasien and Prof Munro from Wits for extensive assistance.\n",
    "- We would like to thank all the testers and feedback providers for their valuable input.\n"
   ]
  },
  {
   "cell_type": "code",
   "execution_count": null,
   "id": "b1e743c4",
   "metadata": {},
   "outputs": [],
   "source": [
    "import qiskit.tools.jupyter\n",
    "%qiskit_version_table\n",
    "%qiskit_copyright"
   ]
  }
 ],
 "metadata": {
  "kernelspec": {
   "display_name": "Python 3 (ipykernel)",
   "language": "python",
   "name": "python3"
  },
  "language_info": {
   "codemirror_mode": {
    "name": "ipython",
    "version": 3
   },
   "file_extension": ".py",
   "mimetype": "text/x-python",
   "name": "python",
   "nbconvert_exporter": "python",
   "pygments_lexer": "ipython3",
   "version": "3.9.10"
  },
  "varInspector": {
   "cols": {
    "lenName": 16,
    "lenType": 16,
    "lenVar": 40
   },
   "kernels_config": {
    "python": {
     "delete_cmd_postfix": "",
     "delete_cmd_prefix": "del ",
     "library": "var_list.py",
     "varRefreshCmd": "print(var_dic_list())"
    },
    "r": {
     "delete_cmd_postfix": ") ",
     "delete_cmd_prefix": "rm(",
     "library": "var_list.r",
     "varRefreshCmd": "cat(var_dic_list()) "
    }
   },
   "types_to_exclude": [
    "module",
    "function",
    "builtin_function_or_method",
    "instance",
    "_Feature"
   ],
   "window_display": false
  },
  "widgets": {
   "application/vnd.jupyter.widget-state+json": {
    "state": {
     "1532e6e002b0440dacbd4be1b4d53476": {
      "model_module": "@jupyter-widgets/base",
      "model_module_version": "1.2.0",
      "model_name": "LayoutModel",
      "state": {
       "grid_template_areas": "\n                                       \". . . . right \"\n                                        ",
       "grid_template_columns": "20% 20% 20% 20% 20%",
       "width": "100%"
      }
     },
     "24a88eb6eb8146cfb6add2eeff79995e": {
      "model_module": "@jupyter-widgets/controls",
      "model_module_version": "1.5.0",
      "model_name": "HTMLModel",
      "state": {
       "layout": "IPY_MODEL_bf9f53a1a564437699e515036a0ce2d2",
       "style": "IPY_MODEL_24ea4da5007b48bba0eefb815bf355f2",
       "value": "<h5>Queue</h5>"
      }
     },
     "24ea4da5007b48bba0eefb815bf355f2": {
      "model_module": "@jupyter-widgets/controls",
      "model_module_version": "1.5.0",
      "model_name": "DescriptionStyleModel",
      "state": {
       "description_width": ""
      }
     },
     "34d6eb0ecc3f4693a22590d777c01bff": {
      "model_module": "@jupyter-widgets/controls",
      "model_module_version": "1.5.0",
      "model_name": "GridBoxModel",
      "state": {
       "children": [
        "IPY_MODEL_a2e9a4a096f3492fa00157a542ca6aab"
       ],
       "layout": "IPY_MODEL_1532e6e002b0440dacbd4be1b4d53476"
      }
     },
     "34f4126d27b94cbdb95b5e3db42d4c90": {
      "model_module": "@jupyter-widgets/controls",
      "model_module_version": "1.5.0",
      "model_name": "DescriptionStyleModel",
      "state": {
       "description_width": ""
      }
     },
     "5364e21dbf6c4b1490ce18485212f71f": {
      "model_module": "@jupyter-widgets/base",
      "model_module_version": "1.2.0",
      "model_name": "LayoutModel",
      "state": {
       "grid_area": "right",
       "padding": "0px 0px 0px 0px",
       "width": "70px"
      }
     },
     "6a54cf2cc3b64f3c9c4e06b776734063": {
      "model_module": "@jupyter-widgets/controls",
      "model_module_version": "1.5.0",
      "model_name": "DescriptionStyleModel",
      "state": {
       "description_width": ""
      }
     },
     "6ad5c0d1255b40b99977d37bc5c81f4b": {
      "model_module": "@jupyter-widgets/base",
      "model_module_version": "1.2.0",
      "model_name": "LayoutModel",
      "state": {
       "margin": "0px 0px 0px 37px",
       "width": "600px"
      }
     },
     "77614d7f30b14d12af707f227aae6405": {
      "model_module": "@jupyter-widgets/controls",
      "model_module_version": "1.5.0",
      "model_name": "DescriptionStyleModel",
      "state": {
       "description_width": ""
      }
     },
     "878f6c771bf745fabce67abe28c59bce": {
      "model_module": "@jupyter-widgets/base",
      "model_module_version": "1.2.0",
      "model_name": "LayoutModel",
      "state": {}
     },
     "93f4be9613a647aa9cc2d75a687ddabe": {
      "model_module": "@jupyter-widgets/controls",
      "model_module_version": "1.5.0",
      "model_name": "HBoxModel",
      "state": {
       "children": [
        "IPY_MODEL_ad6328519fa8493aa822d8ea2b454abf",
        "IPY_MODEL_b795ed9f92e7455caba35006a8fae03c",
        "IPY_MODEL_a26f42befbc2428da5a457404a753b69",
        "IPY_MODEL_24a88eb6eb8146cfb6add2eeff79995e",
        "IPY_MODEL_f786ddfaed9f45e78e95bd3a4ad90b56"
       ],
       "layout": "IPY_MODEL_6ad5c0d1255b40b99977d37bc5c81f4b"
      }
     },
     "a26f42befbc2428da5a457404a753b69": {
      "model_module": "@jupyter-widgets/controls",
      "model_module_version": "1.5.0",
      "model_name": "HTMLModel",
      "state": {
       "layout": "IPY_MODEL_e55cd86f1091451e8364b0ee7347d648",
       "style": "IPY_MODEL_34f4126d27b94cbdb95b5e3db42d4c90",
       "value": "<h5>Status</h5>"
      }
     },
     "a2e9a4a096f3492fa00157a542ca6aab": {
      "model_module": "@jupyter-widgets/controls",
      "model_module_version": "1.5.0",
      "model_name": "ButtonModel",
      "state": {
       "button_style": "primary",
       "description": "Clear",
       "layout": "IPY_MODEL_5364e21dbf6c4b1490ce18485212f71f",
       "style": "IPY_MODEL_bcacef5c97424317afc00ef5a8e97b8d"
      }
     },
     "a859d46109714988b0c840d8ffa97305": {
      "model_module": "@jupyter-widgets/controls",
      "model_module_version": "1.5.0",
      "model_name": "HTMLModel",
      "state": {
       "layout": "IPY_MODEL_ca86e5598b72444c8475309e38b6741c",
       "style": "IPY_MODEL_c7c10e6fac2c42aba8f8640097b8530f",
       "value": "<p style='font-family: IBM Plex Sans, Arial, Helvetica, sans-serif; font-size: 20px; font-weight: medium;'>Circuit Properties</p>"
      }
     },
     "ad6328519fa8493aa822d8ea2b454abf": {
      "model_module": "@jupyter-widgets/controls",
      "model_module_version": "1.5.0",
      "model_name": "HTMLModel",
      "state": {
       "layout": "IPY_MODEL_f876a81e03e6499b9d7a65ba2f45702c",
       "style": "IPY_MODEL_6a54cf2cc3b64f3c9c4e06b776734063",
       "value": "<h5>Job ID</h5>"
      }
     },
     "b795ed9f92e7455caba35006a8fae03c": {
      "model_module": "@jupyter-widgets/controls",
      "model_module_version": "1.5.0",
      "model_name": "HTMLModel",
      "state": {
       "layout": "IPY_MODEL_c435ffe76a164843b08ba1e426130c00",
       "style": "IPY_MODEL_d4f9f1267263426ba03d6e805b012d9f",
       "value": "<h5>Backend</h5>"
      }
     },
     "bcacef5c97424317afc00ef5a8e97b8d": {
      "model_module": "@jupyter-widgets/controls",
      "model_module_version": "1.5.0",
      "model_name": "ButtonStyleModel",
      "state": {}
     },
     "bf9f53a1a564437699e515036a0ce2d2": {
      "model_module": "@jupyter-widgets/base",
      "model_module_version": "1.2.0",
      "model_name": "LayoutModel",
      "state": {
       "width": "70px"
      }
     },
     "c435ffe76a164843b08ba1e426130c00": {
      "model_module": "@jupyter-widgets/base",
      "model_module_version": "1.2.0",
      "model_name": "LayoutModel",
      "state": {
       "width": "145px"
      }
     },
     "c7c10e6fac2c42aba8f8640097b8530f": {
      "model_module": "@jupyter-widgets/controls",
      "model_module_version": "1.5.0",
      "model_name": "DescriptionStyleModel",
      "state": {
       "description_width": ""
      }
     },
     "ca86e5598b72444c8475309e38b6741c": {
      "model_module": "@jupyter-widgets/base",
      "model_module_version": "1.2.0",
      "model_name": "LayoutModel",
      "state": {
       "margin": "0px 0px 10px 0px"
      }
     },
     "d4f9f1267263426ba03d6e805b012d9f": {
      "model_module": "@jupyter-widgets/controls",
      "model_module_version": "1.5.0",
      "model_name": "DescriptionStyleModel",
      "state": {
       "description_width": ""
      }
     },
     "e55cd86f1091451e8364b0ee7347d648": {
      "model_module": "@jupyter-widgets/base",
      "model_module_version": "1.2.0",
      "model_name": "LayoutModel",
      "state": {
       "width": "95px"
      }
     },
     "f786ddfaed9f45e78e95bd3a4ad90b56": {
      "model_module": "@jupyter-widgets/controls",
      "model_module_version": "1.5.0",
      "model_name": "HTMLModel",
      "state": {
       "layout": "IPY_MODEL_878f6c771bf745fabce67abe28c59bce",
       "style": "IPY_MODEL_77614d7f30b14d12af707f227aae6405",
       "value": "<h5>Message</h5>"
      }
     },
     "f876a81e03e6499b9d7a65ba2f45702c": {
      "model_module": "@jupyter-widgets/base",
      "model_module_version": "1.2.0",
      "model_name": "LayoutModel",
      "state": {
       "width": "190px"
      }
     }
    },
    "version_major": 2,
    "version_minor": 0
   }
  }
 },
 "nbformat": 4,
 "nbformat_minor": 5
}
