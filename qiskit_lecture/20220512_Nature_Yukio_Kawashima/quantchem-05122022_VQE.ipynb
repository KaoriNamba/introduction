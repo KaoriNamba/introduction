{
 "cells": [
  {
   "cell_type": "markdown",
   "metadata": {},
   "source": [
    "## Qiskitを用いた量子化学計算"
   ]
  },
  {
   "cell_type": "markdown",
   "metadata": {},
   "source": [
    "### 1. 基本的なVQE計算"
   ]
  },
  {
   "cell_type": "markdown",
   "metadata": {},
   "source": [
    "基本的なライブラリのインポート"
   ]
  },
  {
   "cell_type": "code",
   "execution_count": 1,
   "metadata": {},
   "outputs": [],
   "source": [
    "# !pip install h5py==2.10.0\n",
    "# !pip install pyscf\n",
    "# !pip install qiskit\n",
    "import numpy as np\n",
    "# Import standard Qiskit libraries\n",
    "from qiskit import QuantumCircuit, transpile, Aer, IBMQ\n",
    "from qiskit.providers.aer import StatevectorSimulator\n",
    "from qiskit.utils import QuantumInstance\n",
    "from qiskit.tools.jupyter import *\n",
    "from qiskit.visualization import *\n",
    "from ibm_quantum_widgets import *\n",
    "from qiskit.providers.ibmq import least_busy\n",
    "\n",
    "# Load your IBM Quantum account(s)\n",
    "provider = IBMQ.load_account()"
   ]
  },
  {
   "cell_type": "markdown",
   "metadata": {},
   "source": [
    "量子化学計算を実行するためにQiskit Nature librariesのインポート"
   ]
  },
  {
   "cell_type": "code",
   "execution_count": 2,
   "metadata": {},
   "outputs": [],
   "source": [
    "# Import Qiskit libraries for VQE\n",
    "from qiskit.algorithms import NumPyMinimumEigensolver, VQE\n",
    "from qiskit.algorithms.optimizers import COBYLA, SLSQP, L_BFGS_B, SPSA\n",
    "# Import Qiskit Nature libraries\n",
    "from qiskit_nature.drivers import PySCFDriver, UnitsType, Molecule\n",
    "from qiskit_nature.problems.second_quantization.electronic import ElectronicStructureProblem\n",
    "from qiskit_nature.converters.second_quantization import QubitConverter\n",
    "from qiskit_nature.mappers.second_quantization import JordanWignerMapper, ParityMapper\n",
    "# from qiskit_nature.transformers import ActiveSpaceTransformer\n",
    "from qiskit_nature.transformers.second_quantization.electronic import ActiveSpaceTransformer\n",
    "from qiskit_nature.algorithms import VQEUCCFactory, GroundStateEigensolver\n",
    "from qiskit_nature.circuit.library import HartreeFock, UCCSD, PUCCD\n",
    "from qiskit_nature.drivers.second_quantization import (\n",
    "    ElectronicStructureDriverType,\n",
    "    ElectronicStructureMoleculeDriver,\n",
    ")\n",
    "from qiskit_nature.properties.second_quantization.electronic import ParticleNumber\n",
    "from qiskit_nature.runtime import VQEClient"
   ]
  },
  {
   "cell_type": "markdown",
   "metadata": {},
   "source": [
    "分子の情報を入力。\n",
    "このステップは外部プログラムに依存するため注意すること。\n",
    "ここではPySCFプログラムを用いてHartree–Fock計算を行う。\n",
    "\n",
    "量子化学計算を実行する上で、設定が必要となる代表的なパラメータ: \n",
    "(使う外部プログラムによってパラメータの入力の仕方に違いがあることを留意すること。)\n",
    "1. 分子を構成する原子の種類(atomic label)とその位置（デカルト座標）\n",
    "2. 分子の電荷 (-1: 陰イオン, +1: 陽イオン, 0: 中性分子)\n",
    "3. スピン多重度 (spin multiplicity): (1:一重項(singlet), 2:二重項(doublet), 3:三重項(triplet), .....)\n",
    "4. 基底関数(Basis set):  (sto-3g, minao, 6-31g, cc-pvdz)\n",
    "\n",
    "分子の情報を入力する(molecule)。そして、PySCFを使うようにdriverを設定。"
   ]
  },
  {
   "cell_type": "code",
   "execution_count": 3,
   "metadata": {},
   "outputs": [],
   "source": [
    "# Setup the molecule\n",
    "molecule = Molecule(geometry=[['H', [0., 0., 0.]],\n",
    "                              ['H', [0., 0., 0.735]]],\n",
    "                     charge=0, multiplicity=1)\n",
    "# Initiate the PySCF driver (for setup of quantum chemical calculations and Hartee-Fock calculation)\n",
    "# specify driver\n",
    "driver = ElectronicStructureMoleculeDriver(\n",
    "    molecule, basis=\"sto3g\", driver_type=ElectronicStructureDriverType.PYSCF\n",
    ")"
   ]
  },
  {
   "cell_type": "markdown",
   "metadata": {},
   "source": [
    "PySCFを用いてHartree–Fock計算を実行し、最適化した軌道係数を用いて第二量子化ハミルトニアンを構築する。 \n",
    "ElectronicStructureProblemを使い、Hartree–Fock計算を実行。\n",
    "得られるハミルトニアンをFermionOperatorに変換。"
   ]
  },
  {
   "cell_type": "code",
   "execution_count": 4,
   "metadata": {
    "scrolled": true
   },
   "outputs": [
    {
     "name": "stdout",
     "output_type": "stream",
     "text": [
      "Fermionic Operator\n",
      "register length=4, number terms=14\n",
      "  (0.18093119978423106+0j) * ( +_0 -_1 +_2 -_3 )\n",
      "+ (-0.18093119978423128+0j) * ( +_0 -_1 -_2 +_3 )\n",
      "+ (-0.18093119978423128+0j) * ( -_0 +_1 +_2 -_3 )\n",
      "+ (0.18093119978423144+0j) * ( -_0 +_1 -_2 +_3  ...\n"
     ]
    }
   ],
   "source": [
    "# Perform the setup calculation using PySCF and retrieve data from the calculations\n",
    "es_problem = ElectronicStructureProblem(driver)\n",
    "# Get the second quantized Hamiltonian\n",
    "second_q_op = es_problem.second_q_ops()\n",
    "print(second_q_op[0])"
   ]
  },
  {
   "cell_type": "markdown",
   "metadata": {},
   "source": [
    "ハミルトニアンをqubitにマッピングする (Jordan-Wigner変換)。"
   ]
  },
  {
   "cell_type": "code",
   "execution_count": 5,
   "metadata": {},
   "outputs": [
    {
     "name": "stdout",
     "output_type": "stream",
     "text": [
      "-0.8105479805373281 * IIII\n",
      "- 0.22575349222402358 * ZIII\n",
      "+ 0.17218393261915543 * IZII\n",
      "+ 0.12091263261776633 * ZZII\n",
      "- 0.22575349222402358 * IIZI\n",
      "+ 0.17464343068300436 * ZIZI\n",
      "+ 0.16614543256382414 * IZZI\n",
      "+ 0.17218393261915543 * IIIZ\n",
      "+ 0.16614543256382414 * ZIIZ\n",
      "+ 0.16892753870087904 * IZIZ\n",
      "+ 0.12091263261776633 * IIZZ\n",
      "+ 0.04523279994605781 * XXXX\n",
      "+ 0.04523279994605781 * YYXX\n",
      "+ 0.04523279994605781 * XXYY\n",
      "+ 0.04523279994605781 * YYYY\n"
     ]
    }
   ],
   "source": [
    "qubit_converter = QubitConverter(mapper=JordanWignerMapper())\n",
    "qubit_op = qubit_converter.convert(second_q_op[0])\n",
    "print(qubit_op)"
   ]
  },
  {
   "cell_type": "markdown",
   "metadata": {},
   "source": [
    "同様にParity mappingを使ってマップするqubitの数を二個削減する（計算コストの削減）。"
   ]
  },
  {
   "cell_type": "code",
   "execution_count": 6,
   "metadata": {},
   "outputs": [
    {
     "name": "stdout",
     "output_type": "stream",
     "text": [
      "-1.0523732457728605 * II\n",
      "+ (-0.39793742484317884+1.3877787807814457e-17j) * ZI\n",
      "+ (0.39793742484317884-2.7755575615628914e-17j) * IZ\n",
      "+ (-0.011280104256235116+1.3877787807814457e-17j) * ZZ\n",
      "+ (0.18093119978423114-3.469446951953614e-18j) * XX\n"
     ]
    }
   ],
   "source": [
    "qubit_converter2 = QubitConverter(mapper = ParityMapper(), two_qubit_reduction=True)\n",
    "qubit_op2 = qubit_converter2.convert(second_q_op[0], num_particles=es_problem.num_particles)\n",
    "print(qubit_op2)"
   ]
  },
  {
   "cell_type": "markdown",
   "metadata": {},
   "source": [
    "まずは、参照値となる厳密な値を求めるためのセットアップ。"
   ]
  },
  {
   "cell_type": "code",
   "execution_count": 7,
   "metadata": {},
   "outputs": [],
   "source": [
    "# Set the solver for the exact value\n",
    "numpy_solver = NumPyMinimumEigensolver()"
   ]
  },
  {
   "cell_type": "markdown",
   "metadata": {},
   "source": [
    "計算の実行。"
   ]
  },
  {
   "cell_type": "code",
   "execution_count": 8,
   "metadata": {},
   "outputs": [
    {
     "name": "stdout",
     "output_type": "stream",
     "text": [
      "=== GROUND STATE ENERGY ===\n",
      " \n",
      "* Electronic ground state energy (Hartree): -1.857275030202\n",
      "  - computed part:      -1.857275030202\n",
      "~ Nuclear repulsion energy (Hartree): 0.719968994449\n",
      "> Total ground state energy (Hartree): -1.137306035753\n",
      " \n",
      "=== MEASURED OBSERVABLES ===\n",
      " \n",
      "  0:  # Particles: 2.000 S: 0.000 S^2: 0.000 M: 0.000\n",
      " \n",
      "=== DIPOLE MOMENTS ===\n",
      " \n",
      "~ Nuclear dipole moment (a.u.): [0.0  0.0  1.3889487]\n",
      " \n",
      "  0: \n",
      "  * Electronic dipole moment (a.u.): [0.0  0.0  1.3889487]\n",
      "    - computed part:      [0.0  0.0  1.3889487]\n",
      "  > Dipole moment (a.u.): [0.0  0.0  0.0]  Total: 0.0\n",
      "                 (debye): [0.0  0.0  0.0]  Total: 0.0\n",
      " \n"
     ]
    }
   ],
   "source": [
    "calc = GroundStateEigensolver(qubit_converter, numpy_solver)\n",
    "res = calc.solve(es_problem)\n",
    "print(res)"
   ]
  },
  {
   "cell_type": "markdown",
   "metadata": {},
   "source": [
    "次にVQE計算をセットアップ。\n",
    "最適化のアルゴリズム(optimizer)、スピン軌道（分子軌道の数）、電子の数（alpha, beta）を入力\n",
    "初期状態としてHartree–Fockの電子配置(| 01 01> (Qiskitではalphaのスピン軌道の入力が先。それらを全て入力した後にbetaのスピン軌道を入力。))\n",
    "次に試行波動関数を生成するためのansatzを指定。\n",
    "ここでは、クラスター展開法の一電子励起と二電子励起を考慮したUnitary Coupled Custer Singles & Doubles (UCCSD)を用いる。\n",
    "上記の情報を入力にしてVQE solverを設定。"
   ]
  },
  {
   "cell_type": "code",
   "execution_count": 9,
   "metadata": {},
   "outputs": [],
   "source": [
    "# Set the optimizer (COBYLA, L_BFGS_B (L-BFGS-B), and etc.)  \n",
    "# See https://github.com/Qiskit/qiskit-terra/tree/main/qiskit/algorithms/optimizers\n",
    "optimizer = SLSQP(maxiter=100) \n",
    "\n",
    "# Set number of spin-orbitals\n",
    "num_spin_orbitals=4\n",
    "# Set the number of particles\n",
    "num_particles=(1,1)\n",
    "\n",
    "# Set the initial state as the Hartree-Fock state | 1100 > or | 01 01 > in Qiskit convention\n",
    "initial_state = HartreeFock(num_spin_orbitals, num_particles, qubit_converter)\n",
    "\n",
    "# Set the UCCSD ansatz\n",
    "ansatz = UCCSD(qubit_converter,num_particles,num_spin_orbitals,initial_state=initial_state,)\n",
    "\n",
    "# Set the VQE solver\n",
    "vqe_solver = VQE(ansatz=ansatz,optimizer=optimizer,\n",
    "            quantum_instance=QuantumInstance(backend=Aer.get_backend(\"statevector_simulator\")),)"
   ]
  },
  {
   "cell_type": "markdown",
   "metadata": {},
   "source": [
    "Ground state eigensolverを用いてVQE計算の実行。"
   ]
  },
  {
   "cell_type": "code",
   "execution_count": 10,
   "metadata": {},
   "outputs": [
    {
     "name": "stdout",
     "output_type": "stream",
     "text": [
      "=== GROUND STATE ENERGY ===\n",
      " \n",
      "* Electronic ground state energy (Hartree): -1.857275030144\n",
      "  - computed part:      -1.857275030144\n",
      "~ Nuclear repulsion energy (Hartree): 0.719968994449\n",
      "> Total ground state energy (Hartree): -1.137306035695\n",
      " \n",
      "=== MEASURED OBSERVABLES ===\n",
      " \n",
      "  0:  # Particles: 2.000 S: 0.000 S^2: 0.000 M: -0.000\n",
      " \n",
      "=== DIPOLE MOMENTS ===\n",
      " \n",
      "~ Nuclear dipole moment (a.u.): [0.0  0.0  1.3889487]\n",
      " \n",
      "  0: \n",
      "  * Electronic dipole moment (a.u.): [0.0  0.0  1.38894876]\n",
      "    - computed part:      [0.0  0.0  1.38894876]\n",
      "  > Dipole moment (a.u.): [0.0  0.0  -0.00000006]  Total: 0.00000006\n",
      "                 (debye): [0.0  0.0  -0.00000014]  Total: 0.00000014\n",
      " \n"
     ]
    }
   ],
   "source": [
    "from qiskit_nature.algorithms import GroundStateEigensolver\n",
    "# Perform the VQE calculation using the Ground state eigensolver\n",
    "calc = GroundStateEigensolver(qubit_converter, vqe_solver)\n",
    "res = calc.solve(es_problem)\n",
    "print(res)"
   ]
  },
  {
   "cell_type": "markdown",
   "metadata": {},
   "source": [
    "### 2. ポテンシャルエネルギー曲線の構築"
   ]
  },
  {
   "cell_type": "markdown",
   "metadata": {},
   "source": [
    "水素分子の水素原子間距離を伸ばしつつ、分子のエネルギーを計算する。"
   ]
  },
  {
   "cell_type": "code",
   "execution_count": 11,
   "metadata": {},
   "outputs": [],
   "source": [
    "h2_length = np.arange(0.5, 2.5, 0.1)\n",
    "hf_energy_list=[]\n",
    "uccsd_energy_list=[]\n",
    "for bond_length in h2_length:\n",
    "    molecule = Molecule(geometry=[['H', [0., 0., 0.]],\n",
    "                                  ['H', [0., 0., bond_length]]],\n",
    "                         charge=0, multiplicity=1)\n",
    "    driver = ElectronicStructureMoleculeDriver(\n",
    "        molecule, basis=\"sto6g\", driver_type=ElectronicStructureDriverType.PYSCF\n",
    "    )\n",
    "    # driver = PySCFDriver(molecule = molecule, unit=UnitsType.ANGSTROM, basis='sto6g')\n",
    "    es_problem = ElectronicStructureProblem(driver)\n",
    "    qubit_converter = QubitConverter(mapper = ParityMapper(), two_qubit_reduction=True)\n",
    "    quantum_instance = QuantumInstance(backend = Aer.get_backend('statevector_simulator'))\n",
    "    vqe_solver = VQEUCCFactory(quantum_instance)\n",
    "    calc = GroundStateEigensolver(qubit_converter, vqe_solver)\n",
    "    res = calc.solve(es_problem)\n",
    "    hf_energy_list += [res.hartree_fock_energy] \n",
    "    uccsd_energy_list += [res.total_energies[0]] "
   ]
  },
  {
   "cell_type": "markdown",
   "metadata": {},
   "source": [
    "結合距離に対して、分子のエネルギーをプロット。\n",
    "ここでは、UCCSDは乖離極限に向かって収束する（これが正しい描像）ことを確認する。\n",
    "それに対して、Hartree-Fock法は異なる挙動を示すことにも留意。 "
   ]
  },
  {
   "cell_type": "code",
   "execution_count": 12,
   "metadata": {},
   "outputs": [
    {
     "data": {
      "text/plain": [
       "<matplotlib.legend.Legend at 0x7fa0bbe83bb0>"
      ]
     },
     "execution_count": 12,
     "metadata": {},
     "output_type": "execute_result"
    },
    {
     "data": {
      "image/png": "[encoded data removed]",
      "text/plain": [
       "<Figure size 432x288 with 1 Axes>"
      ]
     },
     "metadata": {
      "needs_background": "light"
     },
     "output_type": "display_data"
    }
   ],
   "source": [
    "import matplotlib.pyplot as plt\n",
    "%matplotlib inline\n",
    "\n",
    "plt.plot(h2_length,hf_energy_list,color='black',label='HF')\n",
    "plt.plot(h2_length,uccsd_energy_list,color='red',label='UCCSD')\n",
    "plt.title(\"Potential energy curve of hydrogen molecule\")\n",
    "plt.xlabel(\"H-H bond length\")\n",
    "plt.ylabel(\"Energy (hartrees)\")\n",
    "plt.legend()"
   ]
  },
  {
   "cell_type": "markdown",
   "metadata": {},
   "source": [
    "### 3. 問題サイズを小さくし、計算コストを削減"
   ]
  },
  {
   "cell_type": "markdown",
   "metadata": {},
   "source": [
    "### 計算コスト削減前の参照値 (5-10分ほどかかる)"
   ]
  },
  {
   "cell_type": "code",
   "execution_count": 13,
   "metadata": {},
   "outputs": [
    {
     "name": "stdout",
     "output_type": "stream",
     "text": [
      "LiH HF energy =  -7.770873669221905\n",
      "LiH UCCSD energy =  -7.8236790754197605\n"
     ]
    }
   ],
   "source": [
    "# define molecule\n",
    "molecule = Molecule(geometry=[['Li', [0., 0., 0.]],\n",
    "                              ['H',  [0., 0., 2.5]]],\n",
    "                        charge=0, \n",
    "                        multiplicity=1)\n",
    "\n",
    "# specify driver\n",
    "driver = ElectronicStructureMoleculeDriver(\n",
    "    molecule, basis=\"sto3g\", driver_type=ElectronicStructureDriverType.PYSCF\n",
    ")\n",
    "\n",
    "# define electronic structure problem\n",
    "problem = ElectronicStructureProblem(driver)\n",
    "\n",
    "# construct qubit converter (Jordan-Wigner)\n",
    "qubit_converter = QubitConverter(mapper=JordanWignerMapper())\n",
    "\n",
    "# Set the optimizer (COBYLA, L_BFGS_B (L-BFGS-B), and etc.)  \n",
    "# See https://github.com/Qiskit/qiskit-terra/tree/main/qiskit/algorithms/optimizers\n",
    "optimizer = SLSQP(maxiter=100) \n",
    "\n",
    "# Set number of spin-orbitals\n",
    "num_spin_orbitals=12\n",
    "# Set the number of particles\n",
    "num_particles=(2,2)\n",
    "\n",
    "# Set the initial state as the Hartree-Fock state | 1100 > or | 01 01 > in Qiskit convention\n",
    "initial_state = HartreeFock(num_spin_orbitals, num_particles, qubit_converter)\n",
    "\n",
    "# Set the UCCSD ansatz\n",
    "ansatz = UCCSD(qubit_converter=qubit_converter,num_particles=num_particles,num_spin_orbitals=num_spin_orbitals,initial_state=initial_state,)\n",
    "\n",
    "# Set the VQE solver\n",
    "vqe_solver = VQE(ansatz=ansatz,optimizer=optimizer,\n",
    "            quantum_instance=QuantumInstance(backend=Aer.get_backend(\"statevector_simulator\")),)\n",
    "\n",
    "calc = GroundStateEigensolver(qubit_converter, vqe_solver)\n",
    "res_UCCSD = calc.solve(problem)\n",
    "lih_uccsd_energy= res_UCCSD.total_energies[0]\n",
    "lih_hf_energy = res_UCCSD.hartree_fock_energy\n",
    "print('LiH HF energy = ', lih_hf_energy)\n",
    "print('LiH UCCSD energy = ', lih_uccsd_energy)"
   ]
  },
  {
   "cell_type": "markdown",
   "metadata": {},
   "source": [
    "次に厳密な値も計算しておく。"
   ]
  },
  {
   "cell_type": "code",
   "execution_count": 14,
   "metadata": {},
   "outputs": [
    {
     "name": "stdout",
     "output_type": "stream",
     "text": [
      "LiH exact energy: -7.823723883467717\n"
     ]
    }
   ],
   "source": [
    "np_solver = NumPyMinimumEigensolver()\n",
    "np_groundstate_solver = GroundStateEigensolver(qubit_converter, np_solver)\n",
    "\n",
    "np_result = np_groundstate_solver.solve(problem)\n",
    "\n",
    "target_energy = np.real(np_result.eigenenergies + np_result.nuclear_repulsion_energy)[0]\n",
    "print('LiH exact energy:', target_energy)"
   ]
  },
  {
   "cell_type": "markdown",
   "metadata": {},
   "source": [
    "### Ansatzの変更\n",
    "ここでは、UCCSDよりも計算コストが少ない、ペアの二電子励起のみを考慮するPUCCD(Pair Unitary Coupled Cluster Doubles)を用いる。"
   ]
  },
  {
   "cell_type": "code",
   "execution_count": 15,
   "metadata": {},
   "outputs": [
    {
     "name": "stdout",
     "output_type": "stream",
     "text": [
      "LiH PUCCD energy =  -7.802918395775962\n"
     ]
    }
   ],
   "source": [
    "# define electronic structure problem\n",
    "problem = ElectronicStructureProblem(driver)\n",
    "\n",
    "# construct qubit converter (Jordan-Wigner)\n",
    "qubit_converter = QubitConverter(mapper=JordanWignerMapper())\n",
    "\n",
    "# Set the optimizer (COBYLA, L_BFGS_B (L-BFGS-B), and etc.)  \n",
    "# See https://github.com/Qiskit/qiskit-terra/tree/main/qiskit/algorithms/optimizers\n",
    "optimizer = SLSQP(maxiter=100) \n",
    "\n",
    "# Set number of spin-orbitals\n",
    "num_spin_orbitals=12\n",
    "# Set the number of particles\n",
    "num_particles=(2,2)\n",
    "\n",
    "# Set the initial state as the Hartree-Fock state | 1100 > or | 01 01 > in Qiskit convention\n",
    "initial_state = HartreeFock(num_spin_orbitals, num_particles, qubit_converter)\n",
    "\n",
    "# Set the PUCCD ansatz (You can also try changing PUCCD to SUCCD)\n",
    "ansatz = PUCCD(qubit_converter=qubit_converter,num_particles=num_particles,num_spin_orbitals=num_spin_orbitals,initial_state=initial_state,)\n",
    "\n",
    "# Set the VQE solver\n",
    "vqe_solver = VQE(ansatz=ansatz,optimizer=optimizer,\n",
    "            quantum_instance=QuantumInstance(backend=Aer.get_backend(\"statevector_simulator\")),)\n",
    "\n",
    "calc = GroundStateEigensolver(qubit_converter, vqe_solver)\n",
    "res_PUCCD = calc.solve(problem)\n",
    "lih_puccd_energy= res_PUCCD.total_energies[0]\n",
    "print('LiH PUCCD energy = ', lih_puccd_energy)"
   ]
  },
  {
   "cell_type": "markdown",
   "metadata": {},
   "source": [
    "### Active spaceを設定し、問題サイズを小さくする\n",
    "ActiveSpaceTransormerを用いてActive spaceを設定。\n",
    "ここでは、スピン軌道を元々あった12から6に減らしている（空間軌道は6から3に）。"
   ]
  },
  {
   "cell_type": "code",
   "execution_count": 16,
   "metadata": {},
   "outputs": [
    {
     "name": "stdout",
     "output_type": "stream",
     "text": [
      "LiH UCCSD energy with active space =  (-7.773617562048176+0j)\n"
     ]
    }
   ],
   "source": [
    "# Run PySCF to get the parameters for the molecule\n",
    "properties = driver.run()\n",
    "\n",
    "particle_number = properties.get_property(ParticleNumber)\n",
    "    \n",
    "# Specify active space transformation (You can also try changing the number of orbitals)\n",
    "active_space_trafo = ActiveSpaceTransformer(num_electrons=particle_number.num_particles,\n",
    "                                            num_molecular_orbitals=3)\n",
    "    \n",
    "# Define electronic structure problem\n",
    "problem = ElectronicStructureProblem(driver, transformers=[active_space_trafo])\n",
    "\n",
    "# Construct qubit converter (parity mapping + 2-qubit reduction)\n",
    "qubit_converter = QubitConverter(mapper=JordanWignerMapper())\n",
    "\n",
    "# If you change num_molecular_orbitals, set num_spin_orbitals = num_molecular_orbitals*2 \n",
    "num_spin_orbitals = 6\n",
    "num_particles=(2,2)\n",
    "\n",
    "# Set the initial state as the Hartree-Fock state | 1100 > or | 01 01 > in Qiskit convention\n",
    "initial_state = HartreeFock(num_spin_orbitals, num_particles, qubit_converter)\n",
    "# Set the UCCSD ansatz\n",
    "ansatz = UCCSD(qubit_converter=qubit_converter,num_particles=num_particles,num_spin_orbitals=num_spin_orbitals,initial_state=initial_state,)\n",
    "\n",
    "# Set the VQE solver\n",
    "vqe_solver = VQE(ansatz=ansatz,optimizer=optimizer,\n",
    "            quantum_instance=QuantumInstance(backend=Aer.get_backend(\"statevector_simulator\")),)\n",
    "\n",
    "calc = GroundStateEigensolver(qubit_converter, vqe_solver)\n",
    "res_UCCSD_active = calc.solve(problem)\n",
    "\n",
    "lih_uccsd_energy_active= res_UCCSD_active.total_energies[0]\n",
    "print('LiH UCCSD energy with active space = ', lih_uccsd_energy_active)"
   ]
  },
  {
   "cell_type": "markdown",
   "metadata": {},
   "source": [
    "これまでの計算結果を比較する。\n",
    "計算コストと計算精度を比較し、計算の費用対効果を考察する。"
   ]
  },
  {
   "cell_type": "code",
   "execution_count": 17,
   "metadata": {},
   "outputs": [
    {
     "name": "stdout",
     "output_type": "stream",
     "text": [
      "LiH HF energy =  -7.770873669221905\n",
      "LiH UCCSD energy with active space =  -7.773617562048176\n",
      "LiH PUCCD energy =  -7.802918395775962\n",
      "LiH UCCSD energy =  -7.8236790754197605\n",
      "LiH exact energy: -7.823723883467717\n"
     ]
    }
   ],
   "source": [
    "print('LiH HF energy = ', lih_hf_energy)\n",
    "print('LiH UCCSD energy with active space = ', lih_uccsd_energy_active.real)\n",
    "print('LiH PUCCD energy = ', lih_puccd_energy)\n",
    "print('LiH UCCSD energy = ', lih_uccsd_energy)\n",
    "print('LiH exact energy:', target_energy)"
   ]
  },
  {
   "cell_type": "markdown",
   "metadata": {},
   "source": [
    "## 4. Qiskit Runtimeを用いた実機でのシミュレーション"
   ]
  },
  {
   "cell_type": "markdown",
   "metadata": {},
   "source": [
    "シミュレーションを実行するための量子コンピュータを設定。\n",
    "ここでは、もっとも混んでいないマシンを指定。"
   ]
  },
  {
   "cell_type": "code",
   "execution_count": 18,
   "metadata": {},
   "outputs": [
    {
     "name": "stdout",
     "output_type": "stream",
     "text": [
      "Running on current least busy device:  ibmq_belem\n"
     ]
    }
   ],
   "source": [
    "# Set the provider\n",
    "provider = IBMQ.get_provider(hub='ibm-q')\n",
    "# Choose the least busy hardware\n",
    "backend = least_busy(provider.backends(filters=lambda x: x.configuration().n_qubits >= 2 and \n",
    "                                   not x.configuration().simulator and x.status().operational==True))\n",
    "print(\"Running on current least busy device: \", backend)"
   ]
  },
  {
   "cell_type": "markdown",
   "metadata": {},
   "source": [
    "このようにコールバック関数を指定することも可能。なお、このnotebookではこの機能は用いていない。"
   ]
  },
  {
   "cell_type": "code",
   "execution_count": 19,
   "metadata": {},
   "outputs": [],
   "source": [
    "intermediate_info = {\n",
    "    'nfev': [],\n",
    "    'parameters': [],\n",
    "    'energy': [],\n",
    "    'stddev': []\n",
    "}\n",
    "\n",
    "def callback(nfev, parameters, energy, stddev):\n",
    "    intermediate_info['nfev'].append(nfev)\n",
    "    intermediate_info['parameters'].append(parameters)\n",
    "    intermediate_info['energy'].append(energy)\n",
    "    intermediate_info['stddev'].append(stddev)"
   ]
  },
  {
   "cell_type": "markdown",
   "metadata": {},
   "source": [
    "ノイズのある実機でシミュレーションを実行するので、measurement_error_mitigation=True として、測定エラーを軽減する。"
   ]
  },
  {
   "cell_type": "code",
   "execution_count": 20,
   "metadata": {},
   "outputs": [],
   "source": [
    "measurement_error_mitigation = True"
   ]
  },
  {
   "cell_type": "markdown",
   "metadata": {},
   "source": [
    "先ほど実行した H<sub>2</sub> 分子のシミュレーションを実機にて実行する。\n",
    "最後の行でQiskit Runtimeを用いてVQEを実行するよう設定する。"
   ]
  },
  {
   "cell_type": "code",
   "execution_count": 21,
   "metadata": {},
   "outputs": [],
   "source": [
    "from qiskit_nature.runtime import VQEProgram\n",
    "# Set the optimizer (consider using an optimizer suitable for noisy experiment)\n",
    "optimizer = {'name': 'SPSA',\n",
    "             'maxiter': 200}\n",
    "\n",
    "# Setup the molecule\n",
    "molecule = Molecule(geometry=[['H', [0., 0., 0.]],\n",
    "                              ['H', [0., 0., 0.735]]],\n",
    "                     charge=0, multiplicity=1)\n",
    "# Initiate the PySCF driver (for setup of quantum chemical calculations and Hartee-Fock calculation)\n",
    "driver = ElectronicStructureMoleculeDriver(\n",
    "    molecule, basis=\"sto3g\", driver_type=ElectronicStructureDriverType.PYSCF\n",
    ")\n",
    "es_problem = ElectronicStructureProblem(driver)\n",
    "\n",
    "# If you have time, it may be worth trying the same experiment with 4-qubits \n",
    "# (Change the qubit converter)\n",
    "# qubit_converter = QubitConverter(mapper=JordanWignerMapper())\n",
    "qubit_converter = QubitConverter(mapper = ParityMapper(), two_qubit_reduction=True)\n",
    "\n",
    "second_q_op = es_problem.second_q_ops()    \n",
    "\n",
    "qubit_op = qubit_converter.convert(second_q_op[0], num_particles=es_problem.num_particles)  \n",
    "    \n",
    "# Check you setup with the simulator before conducting the experiment\n",
    "# quantum_instance=QuantumInstance(backend = Aer.get_backend('statevector_simulator'))\n",
    "quantum_instance = QuantumInstance(shots=4096,backend=backend)\n",
    "\n",
    "# Set number of spin-orbitals\n",
    "num_spin_orbitals=4\n",
    "# Set the number of particles\n",
    "num_particles=(1,1)\n",
    "\n",
    "# Set the initial state as the Hartree-Fock state | 1100 > or | 01 01 > in Qiskit convention\n",
    "initial_state = HartreeFock(num_spin_orbitals, num_particles, qubit_converter)\n",
    "\n",
    "# Set the UCCSD ansatz\n",
    "ansatz = UCCSD(qubit_converter,num_particles,num_spin_orbitals,initial_state=initial_state,)\n",
    "\n",
    "runtime_vqe = VQEClient(ansatz=ansatz,\n",
    "                         optimizer=optimizer,\n",
    "                         provider=provider,\n",
    "                         backend=backend,\n",
    "                         shots=4096,\n",
    "                         measurement_error_mitigation=True,\n",
    "                         callback=callback)"
   ]
  },
  {
   "cell_type": "code",
   "execution_count": 22,
   "metadata": {},
   "outputs": [],
   "source": [
    "runtime_vqe_groundstate_solver = GroundStateEigensolver(qubit_converter, runtime_vqe)\n",
    "runtime_vqe_result = runtime_vqe_groundstate_solver.solve(es_problem)"
   ]
  },
  {
   "cell_type": "code",
   "execution_count": 23,
   "metadata": {},
   "outputs": [
    {
     "name": "stdout",
     "output_type": "stream",
     "text": [
      "Energy: -1.0465516356323743\n"
     ]
    }
   ],
   "source": [
    "print(\n",
    "    \"Energy:\",\n",
    "    np.real(runtime_vqe_result.eigenenergies + runtime_vqe_result.nuclear_repulsion_energy)[0],\n",
    ")"
   ]
  },
  {
   "cell_type": "markdown",
   "metadata": {},
   "source": [
    "VQEClientを用いると最適化プロセスにおける経過にアクセスすることが可能となる。なお、SPSAとQN-SPSAの最適化アルゴリズムでのみ、その機能を使うことができるので注意すること。そのデータはground state solverのraw_resultより参照できる。"
   ]
  },
  {
   "cell_type": "code",
   "execution_count": 24,
   "metadata": {},
   "outputs": [],
   "source": [
    "runtime_result = runtime_vqe_result.raw_result\n",
    "history = runtime_result.optimizer_history\n",
    "loss = history[\"loss\"]\n"
   ]
  },
  {
   "cell_type": "markdown",
   "metadata": {},
   "source": [
    "計算過程をプロットする。VQEにおいて分子のエネルギーがどのように収束しているかを調べることができる。"
   ]
  },
  {
   "cell_type": "code",
   "execution_count": 25,
   "metadata": {},
   "outputs": [
    {
     "data": {
      "image/png": "[encoded data removed]",
      "text/plain": [
       "<Figure size 864x432 with 1 Axes>"
      ]
     },
     "metadata": {
      "needs_background": "light"
     },
     "output_type": "display_data"
    }
   ],
   "source": [
    "import matplotlib.pyplot as plt\n",
    "target_energy=-1.137306035753\n",
    "plt.rcParams[\"font.size\"] = 14\n",
    "\n",
    "# plot loss and reference value\n",
    "plt.figure(figsize=(12, 6))\n",
    "plt.plot(loss + runtime_vqe_result.nuclear_repulsion_energy, label=\"Runtime VQE\")\n",
    "plt.axhline(y=target_energy + 0.2, color=\"tab:red\", ls=\":\", label=\"Target + 200mH\")\n",
    "plt.axhline(y=target_energy, color=\"tab:red\", ls=\"--\", label=\"Target\")\n",
    "\n",
    "plt.legend(loc=\"best\")\n",
    "plt.xlabel(\"Iteration\")\n",
    "plt.ylabel(\"Energy [H]\")\n",
    "plt.title(\"VQE energy\");"
   ]
  },
  {
   "cell_type": "markdown",
   "metadata": {},
   "source": [
    "Qiskitのバージョンのチェック"
   ]
  },
  {
   "cell_type": "code",
   "execution_count": 26,
   "metadata": {},
   "outputs": [
    {
     "data": {
      "text/html": [
       "<h3>Version Information</h3><table><tr><th>Qiskit Software</th><th>Version</th></tr><tr><td><code>qiskit-terra</code></td><td>0.19.1</td></tr><tr><td><code>qiskit-aer</code></td><td>0.10.2</td></tr><tr><td><code>qiskit-ignis</code></td><td>0.7.0</td></tr><tr><td><code>qiskit-ibmq-provider</code></td><td>0.18.3</td></tr><tr><td><code>qiskit</code></td><td>0.34.1</td></tr><tr><td><code>qiskit-nature</code></td><td>0.3.0</td></tr><tr><td><code>qiskit-finance</code></td><td>0.3.0</td></tr><tr><td><code>qiskit-optimization</code></td><td>0.3.0</td></tr><tr><td><code>qiskit-machine-learning</code></td><td>0.3.0</td></tr><tr><th>System information</th></tr><tr><td>Python version</td><td>3.8.12</td></tr><tr><td>Python compiler</td><td>GCC 9.4.0</td></tr><tr><td>Python build</td><td>default, Oct 12 2021 21:59:51</td></tr><tr><td>OS</td><td>Linux</td></tr><tr><td>CPUs</td><td>8</td></tr><tr><td>Memory (Gb)</td><td>31.400039672851562</td></tr><tr><td colspan='2'>Fri Feb 04 23:16:44 2022 UTC</td></tr></table>"
      ],
      "text/plain": [
       "<IPython.core.display.HTML object>"
      ]
     },
     "metadata": {},
     "output_type": "display_data"
    },
    {
     "data": {
      "text/html": [
       "<div style='width: 100%; background-color:#d5d9e0;padding-left: 10px; padding-bottom: 10px; padding-right: 10px; padding-top: 5px'><h3>This code is a part of Qiskit</h3><p>&copy; Copyright IBM 2017, 2022.</p><p>This code is licensed under the Apache License, Version 2.0. You may<br>obtain a copy of this license in the LICENSE.txt file in the root directory<br> of this source tree or at http://www.apache.org/licenses/LICENSE-2.0.<p>Any modifications or derivative works of this code must retain this<br>copyright notice, and modified files need to carry a notice indicating<br>that they have been altered from the originals.</p></div>"
      ],
      "text/plain": [
       "<IPython.core.display.HTML object>"
      ]
     },
     "metadata": {},
     "output_type": "display_data"
    }
   ],
   "source": [
    "import qiskit.tools.jupyter\n",
    "%qiskit_version_table\n",
    "%qiskit_copyright"
   ]
  },
  {
   "cell_type": "code",
   "execution_count": null,
   "metadata": {},
   "outputs": [],
   "source": []
  }
 ],
 "metadata": {
  "kernelspec": {
   "display_name": "Python 3",
   "language": "python",
   "name": "python3"
  },
  "language_info": {
   "codemirror_mode": {
    "name": "ipython",
    "version": 3
   },
   "file_extension": ".py",
   "mimetype": "text/x-python",
   "name": "python",
   "nbconvert_exporter": "python",
   "pygments_lexer": "ipython3",
   "version": "3.8.5"
  },
  "widgets": {
   "application/vnd.jupyter.widget-state+json": {
    "state": {},
    "version_major": 2,
    "version_minor": 0
   }
  }
 },
 "nbformat": 4,
 "nbformat_minor": 5
}
