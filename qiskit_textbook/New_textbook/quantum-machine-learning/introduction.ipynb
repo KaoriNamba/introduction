{
 "cells": [
  {
   "cell_type": "markdown",
   "metadata": {
    "gloss": {
     "qram": {
      "text": "\"Random access memory\" (RAM) is data storage that can be read and changed in any order. Quantum RAM is analogous, but would also allow storing quantum states. <a href='https://en.wikipedia.org/wiki/Quantum_memory'>Read more</a>.",
      "title": "qRAM"
     }
    }
   },
   "source": [
    "# はじめに\n",
    "\n",
    "機械学習は、データからパターンを見出す学際的な分野として成功を収めている。量子コンピュータを導入することで、量子力学の原理を利用して機械学習を拡張する、あるいはその逆を目指す興味深い研究領域が生まれます。このページでは、量子機械学習というエキサイティングで変化の激しい分野の一端をご紹介します。"
   ]
  },
  {
   "cell_type": "markdown",
   "metadata": {},
   "source": [
    "## 機械学習 (Machine Learning, ML)\n",
    "\n",
    "量子機械学習の前に、機械学習の概要をざっと説明しよう。機械学習は、教師あり学習、教師なし学習、強化学習の3つの分野に大別される。\n",
    "<!-- ::: q-block.tabs -->\n",
    "\n",
    "### 量子機械学習の分野\n",
    "\n",
    "<!-- ::: tab -->\n",
    "\n",
    "### 教師あり学習\n",
    "\n",
    "<!-- ::: column(width=250) -->\n",
    "\n",
    "![abstract illustration of supervised learning](images/introduction/tabs/0/supervised.png)\n",
    "\n",
    "<!-- ::: column(width=350) -->\n",
    "\n",
    "ラベル付きデータのタプル$(x_i,y_i)$が与えられたとき、$f: x \\mapsto y$にマッピングする関数を学習することを目的とする。例えば、猫や犬の写真がラベル付けされた集合があれば、新しい猫や犬の写真を識別することができる。\n",
    "\n",
    "\n",
    "\n",
    "<!-- ::: -->\n",
    "\n",
    "<!-- ::: tab -->\n",
    "\n",
    "### 教師なし学習\n",
    "\n",
    "<!-- ::: column(width=250) -->\n",
    "\n",
    "![abstract illustration of unsupervised learning](images/introduction/tabs/0/unsupervised.png)\n",
    "\n",
    "<!-- ::: column(width=350) -->\n",
    "\n",
    "ラベルのないデータ $(x_i)$ の集合が与えられたとき、データの何らかの構造を学習することを目的とする。例えば、映画の視聴履歴に基づいて視聴者をグループ分けし、新しい映画を推薦するような場合である。\n",
    "\n",
    "<!-- ::: -->\n",
    "\n",
    "<!-- ::: tab -->\n",
    "\n",
    "### 強化学習\n",
    "\n",
    "<!-- ::: column(width=250) -->\n",
    "\n",
    "![abstract illustration of reinforcement learning](images/introduction/tabs/0/reinforcement.png)\n",
    "\n",
    "<!-- ::: column(width=350) -->\n",
    "\n",
    "行動に応じて報酬が得られる環境を利用し、期待される報酬を最大化することを目指す。\n",
    "例えば、「パックマン」のプレイ方法をアルゴリズムで学習する。\n",
    "\n",
    "<!-- ::: -->\n",
    "\n",
    "<!-- ::: -->\n",
    "\n",
    "<!-- ::: -->"
   ]
  },
  {
   "cell_type": "markdown",
   "metadata": {},
   "source": [
    "## 量子機械学習(QML)\n",
    "\n",
    "\n",
    "量子コンピュータと機械学習の組み合わせには4つのアプローチがあり、データが古典 _(**C**)_ か量子 _(**Q**)_ か、あるいはアルゴリズムが古典 _(**C**)_ か量子 _(**Q**)_ かによって区別されます（下記文献1より）。\n",
    "\n",
    "ここで、量子データセットとは、量子ビットの相互作用の測定値のような自然または人工の量子系の観測値からなるもので、古典データセットとは、時系列、テキスト、画像のような古典系の観測値からなるものです。\n",
    "\n",
    "<!-- ::: q-block.tabs.qml-approaches -->\n",
    "\n",
    "### QMLアプローチ\n",
    "\n",
    "#### アルゴリズムのタイプ\n",
    "#### データのタイプ\n",
    "\n",
    "<!-- ::: tab -->\n",
    "\n",
    "### CC\n",
    "\n",
    "\n",
    "**CC** とは、古典的なデータを古典的なコンピュータで処理しながら、この推薦システム[recommendation system](https://doi.org/10.1145/3313276.3316310) のアルゴリズムのように、量子コンピューティングにインスパイアされたアルゴリズムを用いることを指します。\n",
    "\n",
    "<!-- ::: tab -->\n",
    "\n",
    "### CQ\n",
    "\n",
    "**CQ** とは、古典的な機械学習アルゴリズムを用いて、量子データを処理することを指します。古典的な機械学習アルゴリズムは、量子ビットの[特性評価](https://doi.org/10.1038/s41524-020-0282-0)、[制御](https://doi.org/10.1038/s41534-019-0141-3)、[読み出し](https://link.aps.org/doi/10.1103/PhysRevLett.114.200501)など、量子コンピューティングの多くの分野で利用されており、現在活発に研究が行われている分野です。\n",
    "\n",
    "<!-- ::: tab -->\n",
    "\n",
    "### QC\n",
    "\n",
    "**QC** とは、量子機械学習アルゴリズムを用いて古典データを処理することであり、本章ではこれに焦点を当てることにします。\n",
    "\n",
    "<!-- ::: tab -->\n",
    "\n",
    "### QQ\n",
    "\n",
    "**QQ** とは、量子機械学習アルゴリズムを用いて、量子データを処理することです。これは興味深いトピックですが、まだ発展途上の段階です。\n",
    "\n",
    "<!-- ::: -->\n",
    "\n",
    "<!-- ::: -->\n"
   ]
  },
  {
   "cell_type": "markdown",
   "metadata": {},
   "source": [
    "<!-- ::: q-block.exercise -->\n",
    "\n",
    "### 簡単なクイズ\n",
    "\n",
    "<!-- ::: q-quiz(goal=\"qml-intro-0\") -->\n",
    "\n",
    "<!-- ::: .question -->\n",
    "\n",
    "このコースでは、以下の処理にフォーカスします...\n",
    "\n",
    "<!-- ::: -->\n",
    "\n",
    "<!-- ::: .option -->\n",
    "\n",
    "1. 古典的アルゴリズムによる古典的データ\n",
    "\n",
    "<!-- ::: -->\n",
    "\n",
    "<!-- ::: .option(correct) -->\n",
    "\n",
    "2. 量子アルゴリズムによる古典データ\n",
    "\n",
    "<!-- ::: -->\n",
    "\n",
    "<!-- ::: .option -->\n",
    "\n",
    "3. 古典的アルゴリズムを用いた量子データ\n",
    "\n",
    "<!-- ::: -->\n",
    "\n",
    "<!-- ::: .option -->\n",
    "\n",
    "4. 量子アルゴリズムによる量子データ\n",
    "\n",
    "<!-- ::: -->\n",
    "\n",
    "<!-- ::: -->\n",
    "\n",
    "<!-- ::: -->"
   ]
  },
  {
   "cell_type": "markdown",
   "metadata": {},
   "source": [
    "\n",
    "\n",
    "QCアルゴリズムには、データを重ね合わせてアクセスできる量子ランダムアクセスメモリ([qRAM](gloss:qram)) を必要とするものと、そうでないものの2種類があります。qRAMを用いたQMLアルゴリズム（例： [qPCA](https://doi.org/10.1038/nphys3029)、[qSVM](https://doi.org/10.1103/PhysRevLett.113.130503) 、[qClustering](https://arxiv.org/abs/1307.0411)）は、従来のアルゴリズムと比較して指数関数的に高速化されますが、qRAMを実現するハードウェア候補は現在のところ存在しません。\n",
    "\n",
    "近年、機械学習に対する量子力学的アプローチは、現在の量子デバイス上で実行可能な近い将来のアルゴリズムに焦点が当てられています。古典的な機械学習技術は、十分に強力なハードウェアが利用可能になったことが大きな要因となって、過去10年間に大きな進歩を遂げました。もしかしたら、量子ハードウェアの存在によって、この分野のさらなる進歩が可能になるかもしれません。\n",
    "\n",
    "この分野は、世界中の複数の研究チームによって現在研究されている非常にダイナミックな分野であり、まだ多くの未解決の問題があり、用語や表記も混乱していることに注意してください。このコースでは、できるだけ一貫性を保つように努めますが、概念が異なる名前で呼ばれている場合や、異なる概念が互いにどのように関連しているのかについても指摘します。\n"
   ]
  },
  {
   "cell_type": "markdown",
   "metadata": {},
   "source": [
    "## References <a id=\"references\"></a>\n",
    "\n",
    "1. Vedran Dunjko, Jacob M. Taylor and Hans J. Briegel, *Quantum-Enhanced Machine Learning*, Physical Review Letters 117 (13), 130501 (2016) [doi:10.1103/PhysRevLett.117.130501](https://doi.org/10.1103/PhysRevLett.117.130501) [arXiv:1610.08251](https://arxiv.org/abs/1610.08251)\n"
   ]
  }
 ],
 "metadata": {
  "kernelspec": {
   "display_name": "Python 3",
   "language": "python",
   "name": "python3"
  },
  "language_info": {
   "codemirror_mode": {
    "name": "ipython",
    "version": 3
   },
   "file_extension": ".py",
   "mimetype": "text/x-python",
   "name": "python",
   "nbconvert_exporter": "python",
   "pygments_lexer": "ipython3",
   "version": "3.8.5"
  }
 },
 "nbformat": 4,
 "nbformat_minor": 4
}
